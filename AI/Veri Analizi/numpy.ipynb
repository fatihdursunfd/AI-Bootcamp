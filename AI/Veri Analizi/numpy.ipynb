{
 "cells": [
  {
   "cell_type": "code",
   "execution_count": 1,
   "metadata": {},
   "outputs": [],
   "source": [
    "import numpy as np\n",
    "import warnings"
   ]
  },
  {
   "cell_type": "code",
   "execution_count": 2,
   "metadata": {},
   "outputs": [],
   "source": [
    "# wargningleri göstermemek için kullanılır\n",
    "warnings.filterwarnings(\"ignore\")"
   ]
  },
  {
   "cell_type": "code",
   "execution_count": 3,
   "metadata": {},
   "outputs": [
    {
     "name": "stdout",
     "output_type": "stream",
     "text": [
      "[10 20 30 40]\n",
      "type :  <class 'numpy.ndarray'>\n",
      "memory location of array :  <memory at 0x0000028A5CA5A800>\n",
      "data type :  int32\n",
      "[10. 20. 30. 40.]\n",
      "float64\n"
     ]
    }
   ],
   "source": [
    "# numpy arrays\n",
    "\n",
    "list1 = [i * 10 for i in range(1,5)]\n",
    "arr1 = np.array(list1)\n",
    "\n",
    "print(arr1)\n",
    "print(\"type : \", type(arr1))\n",
    "print(\"memory location of array : \", arr1.data)\n",
    "print(\"data type : \", arr1.dtype)\n",
    "\n",
    "# int to float\n",
    "arr1 = arr1.astype(float)\n",
    "print(arr1)\n",
    "print(arr1.dtype)"
   ]
  },
  {
   "cell_type": "code",
   "execution_count": 4,
   "metadata": {},
   "outputs": [
    {
     "name": "stdout",
     "output_type": "stream",
     "text": [
      "[0 2 4 6 8]\n",
      "[10  8  6  4  2]\n",
      "int32\n",
      "4\n",
      "20\n"
     ]
    }
   ],
   "source": [
    "# np arange\n",
    "\n",
    "print(np.arange(0,10,2))\n",
    "print(np.arange(10,0,-2))\n",
    "print(np.arange(0,10,2).dtype)\n",
    "print(np.arange(0,10,2).itemsize)\n",
    "print(np.arange(0,10,2).nbytes)"
   ]
  },
  {
   "cell_type": "code",
   "execution_count": 5,
   "metadata": {},
   "outputs": [
    {
     "name": "stdout",
     "output_type": "stream",
     "text": [
      "[0. 0. 0. 0. 0.]\n",
      "[1. 1. 1. 1. 1.]\n",
      "[61 61 61 61 61]\n",
      "[10 10 10 20 20 20 30 30 30]\n",
      "[[10 20 30]\n",
      " [10 20 30]\n",
      " [10 20 30]]\n",
      "[[10 20 30]]\n"
     ]
    }
   ],
   "source": [
    "print(np.zeros(5))\n",
    "print(np.ones(5))\n",
    "\n",
    "# 61den 5 tane\n",
    "print(np.repeat(61,5))\n",
    "\n",
    "# repeat eleman bazlı çalıştığı için 10 , 20 ,30 'dan 3er tane \n",
    "a = np.array([[10,20,30]])\n",
    "print(np.repeat(a,3))\n",
    "print(np.repeat(a,[3],axis=0))\n",
    "\n",
    "# 5 tane 61\n",
    "b = np.full(5,61)\n",
    "print(a)"
   ]
  },
  {
   "cell_type": "code",
   "execution_count": 6,
   "metadata": {},
   "outputs": [
    {
     "name": "stdout",
     "output_type": "stream",
     "text": [
      "[ 1  3  5  7  9 11 13 15 17 19]\n",
      "[ 2  4  6  8 10 12 14 16 18]\n"
     ]
    }
   ],
   "source": [
    "# odd and even numbers in np array\n",
    "\n",
    "arr1 = np.arange(1,20)\n",
    "\n",
    "odds = arr1[arr1 % 2 == 1]\n",
    "evens = arr1[arr1 % 2 == 0]\n",
    "\n",
    "print(odds)\n",
    "print(evens)"
   ]
  },
  {
   "cell_type": "code",
   "execution_count": 7,
   "metadata": {},
   "outputs": [
    {
     "name": "stdout",
     "output_type": "stream",
     "text": [
      "[10.  12.5 15.  17.5 20. ]\n",
      "[10. 11. 12. 13. 14. 15. 16. 17. 18. 19. 20.]\n"
     ]
    }
   ],
   "source": [
    "# np linspace\n",
    "\n",
    "print(np.linspace(10,20,5))\n",
    "print(np.linspace(10,20,11))\n"
   ]
  },
  {
   "cell_type": "code",
   "execution_count": 8,
   "metadata": {},
   "outputs": [
    {
     "name": "stdout",
     "output_type": "stream",
     "text": [
      "[0.54912941 0.63314558 0.34207761 0.82962062]\n",
      "[13 99 85]\n",
      "[99 18 34]\n",
      "[16 47 34]\n"
     ]
    }
   ],
   "source": [
    "# np random\n",
    "\n",
    "print(np.random.random(4))\n",
    "print(np.random.randint(0,100,3))\n",
    "\n",
    "# seed değeri setlenirse random değerler sürekli aynı gelir\n",
    "np.random.seed(61)\n",
    "print(np.random.randint(0,100,3))\n",
    "print(np.random.randint(0,100,3))"
   ]
  },
  {
   "cell_type": "code",
   "execution_count": 9,
   "metadata": {},
   "outputs": [
    {
     "name": "stdout",
     "output_type": "stream",
     "text": [
      "[4.91495639 5.54291621 2.3731973  6.85848502 9.37769661]\n",
      "[4. 5. 2. 6. 9.]\n",
      "[4 5 2 6 9]\n"
     ]
    }
   ],
   "source": [
    "# np uniform\n",
    "\n",
    "n1 = np.random.uniform(0,10,5)\n",
    "print(n1)\n",
    "print(np.floor(n1))\n",
    "\n",
    "n1 = n1.astype(int)\n",
    "print(n1)"
   ]
  },
  {
   "cell_type": "code",
   "execution_count": 10,
   "metadata": {},
   "outputs": [
    {
     "name": "stdout",
     "output_type": "stream",
     "text": [
      "mean :  0.05957306616917081\n",
      "variance :  1.0470391794002198\n",
      "standart deviation :  1.0232493241630898\n",
      "---------------------------------------------\n",
      "mean :  0.0011162824327726356\n",
      "variance :  0.009064724353530482\n",
      "standart deviation :  0.09520884598360849\n"
     ]
    }
   ],
   "source": [
    "# gaussian dist\n",
    "\n",
    "n2 = np.random.randn(1000)\n",
    "print(\"mean : \" , np.mean(n2))\n",
    "print(\"variance : \" ,np.var(n2))\n",
    "print(\"standart deviation : \" ,np.std(n2))\n",
    "\n",
    "print(\"---------------------------------------------\")\n",
    "\n",
    "mu, sigma = 0, 0.1 # mean and standard deviation\n",
    "s = np.random.normal(mu, sigma, 1000)\n",
    "\n",
    "print(\"mean : \" , np.mean(s))\n",
    "print(\"variance : \" ,np.var(s))\n",
    "print(\"standart deviation : \" ,np.std(s))\n"
   ]
  },
  {
   "cell_type": "code",
   "execution_count": 11,
   "metadata": {},
   "outputs": [
    {
     "name": "stdout",
     "output_type": "stream",
     "text": [
      "0 5\n",
      "1 10\n",
      "2 15\n",
      "3 20\n",
      "4 25\n"
     ]
    }
   ],
   "source": [
    "arr1 = [i*5 for i in range(1,6)]\n",
    "for index , value in np.ndenumerate(arr1):\n",
    "    print(index[0] , value)"
   ]
  },
  {
   "cell_type": "code",
   "execution_count": 12,
   "metadata": {},
   "outputs": [
    {
     "name": "stdout",
     "output_type": "stream",
     "text": [
      "array :  [2, 4, 6, 8, 10, 12, 14, 16, 18]\n",
      "sum : 90\n",
      "cumulative sum :  [ 2  6 12 20 30 42 56 72 90]\n",
      "min :  2\n",
      "max :  18\n",
      "argmin :  0\n",
      "argmax :  8\n",
      "mean :  10.0\n",
      "median :  10.0\n",
      "variance :  26.666666666666668\n",
      "std :  5.163977794943222\n"
     ]
    }
   ],
   "source": [
    "arr = [i*2 for i in range(1,10)]\n",
    "\n",
    "print(\"array : \" , arr)\n",
    "print(\"sum :\" , np.sum(arr))\n",
    "print(\"cumulative sum : \" , np.cumsum(arr))\n",
    "\n",
    "# min max argmin argmax mean median std variance\n",
    "\n",
    "print(\"min : \" , np.min(arr))\n",
    "print(\"max : \" , np.max(arr))\n",
    "print(\"argmin : \" , np.argmin(arr))\n",
    "print(\"argmax : \" , np.argmax(arr))\n",
    "print(\"mean : \" ,np.mean(arr))\n",
    "print(\"median : \" , np.median(arr))\n",
    "print(\"variance : \" , np.var(arr))\n",
    "print(\"std : \" ,np.std(arr))"
   ]
  },
  {
   "cell_type": "code",
   "execution_count": 13,
   "metadata": {},
   "outputs": [
    {
     "name": "stdout",
     "output_type": "stream",
     "text": [
      "[[ 1  2 -5  4]\n",
      " [ 7 -2 13  4]\n",
      " [-8  2  9  8]\n",
      " [ 1 -2  4  7]]\n",
      "sum :  45\n",
      "max :  13\n",
      "min :  -8\n",
      "min value of each columns :  [-8 -2 -5  4]\n",
      "min value of each rows :  [-5 -2 -8 -2]\n",
      "mean :  2.8125\n",
      "mean of columns :  [0.25 0.   5.25 5.75]\n",
      "mean of rows :  [0.5  5.5  2.75 2.5 ]\n",
      "variance :  27.52734375\n",
      "variance of columns :  [28.6875  4.     45.1875  3.1875]\n",
      "variance of rows :  [11.25   29.25   45.6875 11.25  ]\n",
      "standart deviation :  5.246650717362458\n",
      "standart deviation of columns :  [5.35607132 2.         6.72216483 1.78535711]\n",
      "standart deviation of rows :  [3.35410197 5.40832691 6.75925292 3.35410197]\n"
     ]
    }
   ],
   "source": [
    "# np multidimensional arrays\n",
    "\n",
    "A = np.array([[1,2,-5,4],[7,-2,13,4],[-8,2,9,8],[1,-2,4,7]])\n",
    "print(A),\n",
    "\n",
    "print(\"sum : \" , A.sum())\n",
    "print(\"max : \" , A.max())\n",
    "print(\"min : \" , A.min()) \n",
    "\n",
    "# sutun bazında\n",
    "print(\"min value of each columns : \" , np.amin(A,axis=0))\n",
    "\n",
    "# satır bazında\n",
    "print(\"min value of each rows : \" , np.amin(A,axis=1))\n",
    "\n",
    "print(\"mean : \",np.mean(A))\n",
    "print(\"mean of columns : \",np.mean(A,axis=0))\n",
    "print(\"mean of rows : \",np.mean(A,axis=1))\n",
    "\n",
    "print(\"variance : \" , np.var(A))\n",
    "print(\"variance of columns : \" , np.var(A,axis=0))\n",
    "print(\"variance of rows : \" , np.var(A,axis=1))\n",
    "\n",
    "print(\"standart deviation : \" , np.std(A))\n",
    "print(\"standart deviation of columns : \" , np.std(A,axis=0))\n",
    "print(\"standart deviation of rows : \" , np.std(A,axis=1))\n"
   ]
  },
  {
   "cell_type": "code",
   "execution_count": 14,
   "metadata": {},
   "outputs": [
    {
     "name": "stdout",
     "output_type": "stream",
     "text": [
      "(0, 0) 1\n",
      "(0, 1) 2\n",
      "(0, 2) -5\n",
      "(0, 3) 4\n",
      "(1, 0) 7\n",
      "(1, 1) -2\n",
      "(1, 2) 13\n",
      "(1, 3) 4\n",
      "(2, 0) -8\n",
      "(2, 1) 2\n",
      "(2, 2) 9\n",
      "(2, 3) 8\n",
      "(3, 0) 1\n",
      "(3, 1) -2\n",
      "(3, 2) 4\n",
      "(3, 3) 7\n"
     ]
    }
   ],
   "source": [
    "for index, value in np.ndenumerate(A) :\n",
    "    print(index,value)"
   ]
  },
  {
   "cell_type": "code",
   "execution_count": 15,
   "metadata": {},
   "outputs": [
    {
     "name": "stdout",
     "output_type": "stream",
     "text": [
      "1\n",
      "9\n",
      "9\n",
      "[1 3 5 8]\n",
      "[8 4 2]\n"
     ]
    }
   ],
   "source": [
    "a = np.array([1,3,5,8,4,2,9])\n",
    "\n",
    "print(a[0])\n",
    "print(a[len(a)-1])\n",
    "print(a[-1])\n",
    "print(a[0:4])\n",
    "print(a[-4:-1])\n"
   ]
  },
  {
   "cell_type": "code",
   "execution_count": 16,
   "metadata": {},
   "outputs": [
    {
     "name": "stdout",
     "output_type": "stream",
     "text": [
      "[ 1  0  3  0  5  0  7  0  9  0 11  0 13  0 15  0 17  0 19]\n",
      "[61 20 30 61 50]\n"
     ]
    }
   ],
   "source": [
    "# np where\n",
    "\n",
    "arr = np.arange(1,20)\n",
    "\n",
    "#replace even numbers to 0\n",
    "a1 = np.where(arr % 2 == 0 , 0 , arr)\n",
    "print(a1)\n",
    "\n",
    "arr2 = np.array([10,20,30,10,50])\n",
    "\n",
    "# replace 10 to 61\n",
    "a2 = np.where(arr2 == 10 , 61 , arr2)\n",
    "print(a2)"
   ]
  },
  {
   "cell_type": "code",
   "execution_count": 52,
   "metadata": {},
   "outputs": [
    {
     "name": "stdout",
     "output_type": "stream",
     "text": [
      "[ 0 10 20 30 40 50 60 70 80 90]\n",
      "[61 61 20 61 40 50 60 61 80 90]\n"
     ]
    }
   ],
   "source": [
    "# np put\n",
    "\n",
    "arr3 = np.arange(0,100,10)\n",
    "print(arr3)\n",
    "\n",
    "# replace value of given index to given numbers\n",
    "# put(array,indexs,numbers)\n",
    "\n",
    "np.put(arr3 , [0,1,3,7], [61,61,61,61])\n",
    "print(arr3)"
   ]
  },
  {
   "cell_type": "code",
   "execution_count": 53,
   "metadata": {},
   "outputs": [
    {
     "name": "stdout",
     "output_type": "stream",
     "text": [
      "[False  True False False False  True False False False]\n",
      "(array([1, 5], dtype=int64),)\n",
      "index of missing values :  [1 5]\n",
      "count of missing values :  2\n",
      "[10. 16. 11. 54. 61. 16. inf 61. 41.]\n"
     ]
    }
   ],
   "source": [
    "# missing values\n",
    "\n",
    "a = np.array([10,np.nan , 11, 54, 61 , np.nan , np.inf , 61 , 41])\n",
    "\n",
    "print(np.isnan(a))\n",
    "print(np.where(np.isnan(a)))\n",
    "print(\"index of missing values : \",np.where(np.isnan(a))[0])\n",
    "print(\"count of missing values : \",len(np.where(np.isnan(a))[0]))\n",
    "\n",
    "# replace missing values to 16\n",
    "a[np.isnan(a)] = 16\n",
    "print(a)"
   ]
  },
  {
   "cell_type": "code",
   "execution_count": 54,
   "metadata": {},
   "outputs": [
    {
     "name": "stdout",
     "output_type": "stream",
     "text": [
      "[[ 4. -3. nan]\n",
      " [nan nan 61.]\n",
      " [ 1.  2.  3.]]\n",
      "(array([0, 1, 1], dtype=int64), array([2, 0, 1], dtype=int64))\n",
      "[0 1 1]\n",
      "[2 0 1]\n"
     ]
    }
   ],
   "source": [
    "A = np.array([[4,-3,np.nan],[np.nan,np.nan,61],[1,2,3]])\n",
    "\n",
    "print(A)\n",
    "\n",
    "print(np.where(np.isnan(A)))\n",
    "print(np.where(np.isnan(A))[0])\n",
    "print(np.where(np.isnan(A))[1])"
   ]
  },
  {
   "cell_type": "code",
   "execution_count": 21,
   "metadata": {},
   "outputs": [
    {
     "name": "stdout",
     "output_type": "stream",
     "text": [
      "[[0. 0. 0. 0. 0.]\n",
      " [0. 0. 0. 0. 0.]]\n",
      "[[1 1 1 1 1]\n",
      " [1 1 1 1 1]]\n",
      "(2, 5)\n"
     ]
    }
   ],
   "source": [
    "# np reshape\n",
    "\n",
    "a = np.zeros(10).reshape(2,-1)\n",
    "print(a)\n",
    "\n",
    "b= np.repeat(1,10).reshape(2,-1)\n",
    "print(b)\n",
    "print(b.shape)"
   ]
  },
  {
   "cell_type": "code",
   "execution_count": 25,
   "metadata": {},
   "outputs": [
    {
     "name": "stdout",
     "output_type": "stream",
     "text": [
      "[[0. 0. 0. 0. 0.]\n",
      " [0. 0. 0. 0. 0.]\n",
      " [1. 1. 1. 1. 1.]\n",
      " [1. 1. 1. 1. 1.]]\n",
      "(4, 5)\n",
      "[[0. 0. 0. 0. 0. 1. 1. 1. 1. 1.]\n",
      " [0. 0. 0. 0. 0. 1. 1. 1. 1. 1.]]\n",
      "(2, 10)\n"
     ]
    }
   ],
   "source": [
    "# np vstack and hstack\n",
    "\n",
    "c = np.vstack([a,b])\n",
    "print(c)\n",
    "print(c.shape)\n",
    "\n",
    "d = np.hstack([a,b])\n",
    "print(d)\n",
    "print(d.shape)"
   ]
  },
  {
   "cell_type": "code",
   "execution_count": 37,
   "metadata": {},
   "outputs": [
    {
     "name": "stdout",
     "output_type": "stream",
     "text": [
      "[20 30]\n",
      "[10 40 50 60]\n",
      "[12 41 51 61]\n"
     ]
    }
   ],
   "source": [
    "# np intersection and setdifference\n",
    "\n",
    "c1 = np.array([i*10 for i in range(1,7)])\n",
    "c2 = np.array([12,20,30,41,51,61])\n",
    "\n",
    "ci = np.intersect1d(c1,c2)\n",
    "print(ci)\n",
    "\n",
    "# c1 / c2\n",
    "print(np.setdiff1d(c1,c2))\n",
    "\n",
    "# c2 / c1\n",
    "print(np.setdiff1d(c2,c1))"
   ]
  },
  {
   "cell_type": "code",
   "execution_count": 43,
   "metadata": {},
   "outputs": [
    {
     "name": "stdout",
     "output_type": "stream",
     "text": [
      "(array([1, 3, 4], dtype=int64),)\n",
      "[2 6 8]\n",
      "(array([36, 38, 40, 42, 44, 46, 48, 50, 52, 54, 56, 57, 58, 59],\n",
      "      dtype=int64),)\n"
     ]
    }
   ],
   "source": [
    "# np where with condition\n",
    "\n",
    "a = np.array([1,2,3,6,8])\n",
    "b = np.array([11,2,13,6,8])\n",
    "\n",
    "print(np.where(a == b))\n",
    "print(a[np.where(a == b)])\n",
    "\n",
    "a1 = np.arange(0,60)\n",
    "print(np.where( (a1 > 35) & (a1 % 2 == 0) | (a1 > 55 )))"
   ]
  },
  {
   "cell_type": "code",
   "execution_count": 45,
   "metadata": {},
   "outputs": [
    {
     "name": "stdout",
     "output_type": "stream",
     "text": [
      "[False False  True False False False False]\n",
      "[30]\n"
     ]
    }
   ],
   "source": [
    "# np isin\n",
    "\n",
    "a = np.array([i*10 for i in range(1,8)])\n",
    "print(np.isin(a,[11,21,30]))\n",
    "print(a[np.isin(a,[30])])"
   ]
  },
  {
   "cell_type": "code",
   "execution_count": 55,
   "metadata": {},
   "outputs": [
    {
     "name": "stdout",
     "output_type": "stream",
     "text": [
      "[29 28 27 26 25 24 23 22 21 20 19 18 17 16 15 14 13 12 11 10]\n",
      "[29 28 27 26 25 24 23 22 21 20 19 18 17 16 15 14 13 12 11 10]\n",
      "[[ 1  3]\n",
      " [ 7 12]]\n",
      "[[ 7 12]\n",
      " [ 1  3]]\n",
      "[[ 3  1]\n",
      " [12  7]]\n",
      "[[12  7]\n",
      " [ 3  1]]\n"
     ]
    }
   ],
   "source": [
    "# reverse an array\n",
    "\n",
    "a4 = np.arange(10,30)\n",
    "\n",
    "print(a4[::-1])\n",
    "print(np.flip(a4))\n",
    "\n",
    "a5 = np.array([[1,3],[7,12]])\n",
    "print(a5)\n",
    "\n",
    "# satıra göre çevirme\n",
    "print(a5[::-1])\n",
    "\n",
    "# sütuna göre çevirme\n",
    "print(a5[:,::-1])\n",
    "\n",
    "# hem satır hem sütuna göre çevirme\n",
    "print(a5[::-1,::-1])\n"
   ]
  },
  {
   "cell_type": "code",
   "execution_count": 65,
   "metadata": {},
   "outputs": [
    {
     "name": "stdout",
     "output_type": "stream",
     "text": [
      "[1 2 3 5 6 7 8 9]\n",
      "[9 8 7 6 5 3 2 1]\n",
      "[[11  3]\n",
      " [ 2 12]]\n",
      "[[ 3 11]\n",
      " [ 2 12]]\n",
      "[[ 2  3]\n",
      " [11 12]]\n"
     ]
    }
   ],
   "source": [
    "# sorting \n",
    "\n",
    "a = np.array([3,1,2,5,7,6,9,8])\n",
    "\n",
    "# ascending \n",
    "a1 = np.sort(a)\n",
    "print(a1)\n",
    "\n",
    "# descending\n",
    "print(a1[::-1])\n",
    "\n",
    "a5 = np.array([[11,3],[2,12]])\n",
    "print(a5)\n",
    "print(np.sort(a5))\n",
    "print(np.sort(a5,axis=0))"
   ]
  },
  {
   "cell_type": "code",
   "execution_count": null,
   "metadata": {},
   "outputs": [],
   "source": [
    "# file loading"
   ]
  },
  {
   "cell_type": "code",
   "execution_count": 67,
   "metadata": {},
   "outputs": [
    {
     "name": "stdout",
     "output_type": "stream",
     "text": [
      "[[24 29 88]\n",
      " [ 1  0  8]\n",
      " [33  7 99]\n",
      " [39 11 98]\n",
      " [22 76 87]]\n"
     ]
    }
   ],
   "source": [
    "p4 = np.loadtxt(\"../Data/sample.txt\" , dtype=np.integer)\n",
    "print(p4)"
   ]
  },
  {
   "cell_type": "code",
   "execution_count": 74,
   "metadata": {},
   "outputs": [
    {
     "name": "stdout",
     "output_type": "stream",
     "text": [
      "[['Dogu' 'Turkey' 'Football']\n",
      " ['John' 'USA' 'Hockey']\n",
      " ['Paul' 'Canada' 'Basketball']]\n",
      "first row :  ['Dogu' 'Turkey' 'Football']\n",
      "first column :  ['Dogu' 'John' 'Paul']\n"
     ]
    }
   ],
   "source": [
    "p5 = np.genfromtxt(\"../Data/sample0.txt\" , dtype=\"str\")\n",
    "print(p5)\n",
    "print(\"first row : \" , p5[0])\n",
    "print(\"first column : \" , p5[:,0])"
   ]
  },
  {
   "cell_type": "code",
   "execution_count": 76,
   "metadata": {},
   "outputs": [
    {
     "name": "stdout",
     "output_type": "stream",
     "text": [
      "[[24 88]\n",
      " [ 1  8]\n",
      " [33 99]\n",
      " [39 98]\n",
      " [22 87]]\n"
     ]
    }
   ],
   "source": [
    "p6 = np.loadtxt(\"../Data/sample.txt\" , dtype=np.integer , usecols=(0,2))\n",
    "print(p6)"
   ]
  },
  {
   "cell_type": "code",
   "execution_count": 80,
   "metadata": {},
   "outputs": [],
   "source": [
    "np.savetxt(\"../Data/180522AIUP.csv\" , p4 , delimiter=',')"
   ]
  },
  {
   "cell_type": "code",
   "execution_count": 88,
   "metadata": {},
   "outputs": [],
   "source": [
    "a = np.arange(0,1000000).reshape(1000,1000)\n",
    "\n",
    "np.savez_compressed(\"../Data/mytest-120522.npz\",a)\n",
    "np.save(\"../Data/mytest-120522n.npy\",a)"
   ]
  },
  {
   "cell_type": "code",
   "execution_count": 89,
   "metadata": {},
   "outputs": [],
   "source": [
    "from IPython.display import Image"
   ]
  },
  {
   "cell_type": "code",
   "execution_count": 91,
   "metadata": {},
   "outputs": [
    {
     "data": {
      "image/png": "[encoded data removed]",
      "text/plain": [
       "<IPython.core.display.Image object>"
      ]
     },
     "execution_count": 91,
     "metadata": {},
     "output_type": "execute_result"
    }
   ],
   "source": [
    "Image(filename = \"../Data/test.png\")"
   ]
  },
  {
   "cell_type": "code",
   "execution_count": 100,
   "metadata": {},
   "outputs": [
    {
     "name": "stdout",
     "output_type": "stream",
     "text": [
      "[1 3]  +  [2 5]  =  [3 8]\n",
      "[1 3]  *  [2 5]  =  [ 2 15]\n"
     ]
    }
   ],
   "source": [
    "# vectors \n",
    "\n",
    "v1 = np.array([1,3])\n",
    "v2 = np.array([2,5])\n",
    "\n",
    "# add\n",
    "#v3 = v1 + v2 \n",
    "v3 = np.add(v1, v2)\n",
    "print(v1 , \" + \" , v2 , \" = \" ,  v3)\n",
    "\n",
    "# multiply\n",
    "\n",
    "v4 = np.multiply(v1,v2)\n",
    "print(v1 , \" * \" , v2 , \" = \" ,  v4)"
   ]
  },
  {
   "cell_type": "code",
   "execution_count": 107,
   "metadata": {},
   "outputs": [
    {
     "name": "stdout",
     "output_type": "stream",
     "text": [
      "Dotp 31\n",
      "np.dot :  31\n",
      "np.inner :  31\n",
      "Dotp using multiply and sum :  31\n",
      "np.matmul :  31\n",
      "Dotp using for loop :  31\n"
     ]
    }
   ],
   "source": [
    "# dot product\n",
    "\n",
    "a1 = np.array([1,2,3])\n",
    "a2 = np.array([2,4,7])\n",
    "\n",
    "dp = a1@a2\n",
    "print(\"Dotp\",dp)\n",
    "\n",
    "dp = np.dot(a1,a2)\n",
    "print(\"np.dot : \",dp)\n",
    "\n",
    "dp = np.inner(a1,a2)\n",
    "print(\"np.inner : \",dp)\n",
    "\n",
    "dp = sum(np.multiply(a1,a2))\n",
    "print(\"Dotp using multiply and sum : \",dp)\n",
    "\n",
    "dp = np.matmul(a1,a2)\n",
    "print(\"np.matmul : \",dp)\n",
    "\n",
    "dp = 0 \n",
    "for i in range(len(a1)):\n",
    "    dp += a1[i] * a2[i]\n",
    "print(\"Dotp using for loop : \",dp)\n"
   ]
  },
  {
   "cell_type": "code",
   "execution_count": 109,
   "metadata": {},
   "outputs": [
    {
     "name": "stdout",
     "output_type": "stream",
     "text": [
      "9.539392014169456\n"
     ]
    }
   ],
   "source": [
    "# length\n",
    "\n",
    "v3 = np.array([i for i in range(1,7)])\n",
    "\n",
    "length = np.sqrt(np.dot(v3,v3))\n",
    "length = np.sqrt(sum(np.multiply(v3,v3)))\n",
    "print(length)"
   ]
  },
  {
   "cell_type": "code",
   "execution_count": 117,
   "metadata": {},
   "outputs": [
    {
     "name": "stdout",
     "output_type": "stream",
     "text": [
      "[0.5547002  0.83205029]\n",
      "[0.5547002  0.83205029]\n",
      "[[476 458 246  66 499 403 169 281 330 463]\n",
      " [458 274 168 482 465 402 335 151 112 400]\n",
      " [436 204 160 474 496  94 136 210 466 426]\n",
      " [347 249 121 149 453 397 401  22 307  29]\n",
      " [ 61 381 284 478  11 291 264 201 289 447]\n",
      " [ 32 299 421 472 371 102 144 482 494 296]\n",
      " [166 298 179 420 442 368  47   8 451 132]\n",
      " [155 380 308 417 184  67 495 458   7 296]\n",
      " [457  43 423 216 126 265 450 416 357 283]\n",
      " [ 81 339  87 292 383 298 176 122 140 286]]\n"
     ]
    }
   ],
   "source": [
    "# normalization \n",
    "\n",
    "v1 = [2,3]\n",
    "length = np.sqrt(np.dot(v1,v1))\n",
    "\n",
    "norm_v1 = v1 / length\n",
    "print(norm_v1)\n",
    "\n",
    "norm_v1 = v1 / np.linalg.norm(v1)\n",
    "print(norm_v1)\n",
    "\n",
    "# random bir matrix oluşturma\n",
    "rv = np.random.randint(0,500,(10,10))\n",
    "print(rv)"
   ]
  },
  {
   "cell_type": "code",
   "execution_count": null,
   "metadata": {},
   "outputs": [],
   "source": [
    "# Matrixs"
   ]
  },
  {
   "cell_type": "code",
   "execution_count": 120,
   "metadata": {},
   "outputs": [
    {
     "name": "stdout",
     "output_type": "stream",
     "text": [
      "[[1. 0. 0.]\n",
      " [0. 1. 0.]\n",
      " [0. 0. 1.]]\n"
     ]
    }
   ],
   "source": [
    "# unit matrix\n",
    "\n",
    "I = np.eye(3)\n",
    "print(I)"
   ]
  },
  {
   "cell_type": "code",
   "execution_count": 122,
   "metadata": {},
   "outputs": [
    {
     "name": "stdout",
     "output_type": "stream",
     "text": [
      "[[1 0 0 0]\n",
      " [0 2 0 0]\n",
      " [0 0 3 0]\n",
      " [0 0 0 4]]\n"
     ]
    }
   ],
   "source": [
    "# diagonal matrix\n",
    "\n",
    "D = np.diag([i for i in range(1,5)])\n",
    "print(D)"
   ]
  },
  {
   "cell_type": "code",
   "execution_count": 132,
   "metadata": {},
   "outputs": [
    {
     "name": "stdout",
     "output_type": "stream",
     "text": [
      "[[ 0.36370934  1.58799646 -0.35746039]\n",
      " [ 0.          0.43333827 -1.22278851]\n",
      " [ 0.          0.          0.1194879 ]]\n",
      "---------------------------------------\n",
      "[[ 3.63709338e-01  0.00000000e+00  0.00000000e+00]\n",
      " [-4.83663906e-01  4.33338269e-01  0.00000000e+00]\n",
      " [-3.37591183e-05  5.61327579e-01  1.19487901e-01]]\n"
     ]
    }
   ],
   "source": [
    "# triangle matrix\n",
    "\n",
    "M = np.random.randn(3,3)\n",
    "# up\n",
    "U = np.triu(M)\n",
    "# down\n",
    "L = np.tril(M)\n",
    "\n",
    "print(U)\n",
    "print(\"---------------------------------------\")\n",
    "print(L)"
   ]
  },
  {
   "cell_type": "code",
   "execution_count": 135,
   "metadata": {},
   "outputs": [],
   "source": [
    "# farklı şekillerde matrix oluşturma\n",
    "\n",
    "m1 = np.full((5,5),1)\n",
    "m2 = np.random.uniform(10,20,size=(5,5))\n",
    "m3 = np.arange(1,26).reshape(5,5)"
   ]
  },
  {
   "cell_type": "code",
   "execution_count": 137,
   "metadata": {},
   "outputs": [
    {
     "name": "stdout",
     "output_type": "stream",
     "text": [
      "[ 1  2  3  4  5  6  7  8  9 10 11 12 13 14 15 16 17 18 19 20 21 22 23 24\n",
      " 25]\n",
      "[ 1  2  3  4  5  6  7  8  9 10 11 12 13 14 15 16 17 18 19 20 21 22 23 24\n",
      " 25]\n"
     ]
    }
   ],
   "source": [
    "# flatten and ravel\n",
    "\n",
    "# 2 boyutlu matrisi tek boyuta indirgeme\n",
    "m4 = m3.flatten()\n",
    "m5 = m3.ravel()\n",
    "\n",
    "print(m4)\n",
    "print(m5)"
   ]
  },
  {
   "cell_type": "code",
   "execution_count": 142,
   "metadata": {},
   "outputs": [
    {
     "name": "stdout",
     "output_type": "stream",
     "text": [
      "[[ 2.  3.  4.]\n",
      " [ 4. -1. 11.]\n",
      " [10.  4. -2.]]\n",
      "\n",
      "[[ 0.  1.  2.]\n",
      " [ 0. -5.  7.]\n",
      " [ 4. -2. -8.]]\n"
     ]
    }
   ],
   "source": [
    "# matrix add an subtract\n",
    "\n",
    "M = np.array([[1,2,3],[2,-3,9],[7,1,-5]])\n",
    "N = np.array([[1,1,1],[2,2,2],[3,3,3]])\n",
    "\n",
    "C = M + N \n",
    "C = np.add(M, N , dtype=np.float64)\n",
    "\n",
    "print(C)\n",
    "\n",
    "C = M - N\n",
    "C = np.subtract(M ,N , dtype=np.float64)\n",
    "\n",
    "print()\n",
    "print(C)"
   ]
  },
  {
   "cell_type": "code",
   "execution_count": 145,
   "metadata": {},
   "outputs": [
    {
     "name": "stdout",
     "output_type": "stream",
     "text": [
      "[[  5  10  15]\n",
      " [ 10 -15  45]\n",
      " [ 35   5 -25]]\n"
     ]
    }
   ],
   "source": [
    "# scalar multiply\n",
    "\n",
    "M = np.array([[1,2,3],[2,-3,9],[7,1,-5]])\n",
    "\n",
    "c = 5 \n",
    "\n",
    "# M = M * c\n",
    "M = np.multiply(c,M)\n",
    "print(M)"
   ]
  },
  {
   "cell_type": "code",
   "execution_count": 149,
   "metadata": {},
   "outputs": [
    {
     "name": "stdout",
     "output_type": "stream",
     "text": [
      "[[ 1  2  7]\n",
      " [ 2 -3  1]\n",
      " [ 3  9 -5]]\n",
      "\n",
      "[[ 1  2  3]\n",
      " [ 2 -3  9]\n",
      " [ 7  1 -5]]\n"
     ]
    }
   ],
   "source": [
    "#transpose\n",
    "\n",
    "M = np.array([[1,2,3],[2,-3,9],[7,1,-5]])\n",
    "\n",
    "M = np.transpose(M)\n",
    "print(M)\n",
    "print()\n",
    "print(M.T)"
   ]
  },
  {
   "cell_type": "code",
   "execution_count": 150,
   "metadata": {},
   "outputs": [
    {
     "name": "stdout",
     "output_type": "stream",
     "text": [
      "221.0000000000001\n"
     ]
    }
   ],
   "source": [
    "# determinant\n",
    "\n",
    "M = np.array([[1,2,3],[2,-3,9],[7,1,-5]])\n",
    "\n",
    "det = np.linalg.det(M)\n",
    "print(det)"
   ]
  },
  {
   "cell_type": "code",
   "execution_count": 151,
   "metadata": {},
   "outputs": [
    {
     "name": "stdout",
     "output_type": "stream",
     "text": [
      "[[ 0.02714932  0.05882353  0.12217195]\n",
      " [ 0.33031674 -0.11764706 -0.01357466]\n",
      " [ 0.1040724   0.05882353 -0.03167421]]\n"
     ]
    }
   ],
   "source": [
    "# inverse\n",
    "\n",
    "M = np.array([[1,2,3],[2,-3,9],[7,1,-5]])\n",
    "\n",
    "inv = np.linalg.inv(M)\n",
    "print(inv)"
   ]
  },
  {
   "cell_type": "code",
   "execution_count": 153,
   "metadata": {},
   "outputs": [
    {
     "name": "stdout",
     "output_type": "stream",
     "text": [
      "[[ 1.          2.          3.        ]\n",
      " [ 1.         -1.5         4.5       ]\n",
      " [ 2.33333333  0.33333333 -1.66666667]]\n"
     ]
    }
   ],
   "source": [
    "# dividing 2 matrix\n",
    "\n",
    "M = np.array([[1,2,3],[2,-3,9],[7,1,-5]])\n",
    "N = np.array([[1,1,1],[2,2,2],[3,3,3]])\n",
    "\n",
    "# D = M / N\n",
    "D = np.divide(M,N)\n",
    "\n",
    "print(D)\n"
   ]
  },
  {
   "cell_type": "code",
   "execution_count": 155,
   "metadata": {},
   "outputs": [
    {
     "name": "stdout",
     "output_type": "stream",
     "text": [
      "[[  66   61   39]\n",
      " [-359  -14  705]\n",
      " [ 371  -15 -299]]\n"
     ]
    }
   ],
   "source": [
    "# matrix power\n",
    "\n",
    "M = np.array([[1,2,3],[2,-3,9],[7,1,-5]])\n",
    "\n",
    "# M^3\n",
    "# m1 = M@M@M\n",
    "m1 = np.linalg.matrix_power(M,3)\n",
    "\n",
    "print(m1)"
   ]
  },
  {
   "cell_type": "code",
   "execution_count": null,
   "metadata": {},
   "outputs": [],
   "source": [
    "# Tensors"
   ]
  },
  {
   "cell_type": "code",
   "execution_count": 159,
   "metadata": {},
   "outputs": [
    {
     "name": "stdout",
     "output_type": "stream",
     "text": [
      "(3, 3, 3)\n",
      "(3, 3, 3)\n"
     ]
    }
   ],
   "source": [
    "T1 = np.array([\n",
    "    [[1,2,3],[2,-3,9],[7,1,-5]],\n",
    "    [[3,2,4],[-2,3,11],[8,11,5]],\n",
    "    [[5,2,-5],[2,7,1],[12,13,-4]]\n",
    "])\n",
    "\n",
    "T2 = np.array([\n",
    "    [[2,7,3],[-2,3,8],[6,14,3]],\n",
    "    [[-3,0,4],[12,-3,11],[8,1,3]],\n",
    "    [[9,21,5],[1,5,1],[1,1,4]]\n",
    "])\n",
    "\n",
    "print(T1.shape)\n",
    "print(T2.shape)"
   ]
  },
  {
   "cell_type": "code",
   "execution_count": 163,
   "metadata": {},
   "outputs": [
    {
     "name": "stdout",
     "output_type": "stream",
     "text": [
      "[[[ 3  9  6]\n",
      "  [ 0  0 17]\n",
      "  [13 15 -2]]\n",
      "\n",
      " [[ 0  2  8]\n",
      "  [10  0 22]\n",
      "  [16 12  8]]\n",
      "\n",
      " [[14 23  0]\n",
      "  [ 3 12  2]\n",
      "  [13 14  0]]]\n"
     ]
    }
   ],
   "source": [
    "# add\n",
    "\n",
    "A = T1 + T2\n",
    "A = np.add(T1,T2)\n",
    "print(A)"
   ]
  },
  {
   "cell_type": "code",
   "execution_count": 164,
   "metadata": {},
   "outputs": [
    {
     "name": "stdout",
     "output_type": "stream",
     "text": [
      "[[[ -1  -5   0]\n",
      "  [  4  -6   1]\n",
      "  [  1 -13  -8]]\n",
      "\n",
      " [[  6   2   0]\n",
      "  [-14   6   0]\n",
      "  [  0  10   2]]\n",
      "\n",
      " [[ -4 -19 -10]\n",
      "  [  1   2   0]\n",
      "  [ 11  12  -8]]]\n"
     ]
    }
   ],
   "source": [
    "# substract\n",
    "\n",
    "A = T1 - T2 \n",
    "A = np.subtract(T1,T2)\n",
    "print(A)"
   ]
  },
  {
   "cell_type": "code",
   "execution_count": null,
   "metadata": {},
   "outputs": [],
   "source": [
    "# multiply"
   ]
  },
  {
   "cell_type": "code",
   "execution_count": null,
   "metadata": {},
   "outputs": [],
   "source": [
    "# divide"
   ]
  },
  {
   "cell_type": "code",
   "execution_count": null,
   "metadata": {},
   "outputs": [],
   "source": [
    "# dot product"
   ]
  },
  {
   "cell_type": "code",
   "execution_count": null,
   "metadata": {},
   "outputs": [],
   "source": []
  }
 ],
 "metadata": {
  "interpreter": {
   "hash": "66b94497dab2d27425e3f2091c3c7dc2ea75cd7e2b5124c371513e42475b1791"
  },
  "kernelspec": {
   "display_name": "Python 3.10.4 64-bit",
   "language": "python",
   "name": "python3"
  },
  "language_info": {
   "codemirror_mode": {
    "name": "ipython",
    "version": 3
   },
   "file_extension": ".py",
   "mimetype": "text/x-python",
   "name": "python",
   "nbconvert_exporter": "python",
   "pygments_lexer": "ipython3",
   "version": "3.10.4"
  },
  "orig_nbformat": 4
 },
 "nbformat": 4,
 "nbformat_minor": 2
}
