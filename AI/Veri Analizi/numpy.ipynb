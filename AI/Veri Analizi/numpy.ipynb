{
 "cells": [
  {
   "cell_type": "code",
   "execution_count": 1,
   "metadata": {},
   "outputs": [],
   "source": [
    "import numpy as np\n",
    "import warnings"
   ]
  },
  {
   "cell_type": "code",
   "execution_count": 2,
   "metadata": {},
   "outputs": [],
   "source": [
    "# wargningleri göstermemek için kullanılır\n",
    "warnings.filterwarnings(\"ignore\")"
   ]
  },
  {
   "cell_type": "code",
   "execution_count": 3,
   "metadata": {},
   "outputs": [
    {
     "name": "stdout",
     "output_type": "stream",
     "text": [
      "[10 20 30 40]\n",
      "type :  <class 'numpy.ndarray'>\n",
      "memory location of array :  <memory at 0x000001F39B3CD4C8>\n",
      "data type :  int32\n",
      "[10. 20. 30. 40.]\n",
      "float64\n"
     ]
    }
   ],
   "source": [
    "# numpy arrays\n",
    "\n",
    "list1 = [i * 10 for i in range(1,5)]\n",
    "arr1 = np.array(list1)\n",
    "\n",
    "print(arr1)\n",
    "print(\"type : \", type(arr1))\n",
    "print(\"memory location of array : \", arr1.data)\n",
    "print(\"data type : \", arr1.dtype)\n",
    "\n",
    "# int to float\n",
    "arr1 = arr1.astype(float)\n",
    "print(arr1)\n",
    "print(arr1.dtype)"
   ]
  },
  {
   "cell_type": "code",
   "execution_count": 4,
   "metadata": {},
   "outputs": [
    {
     "name": "stdout",
     "output_type": "stream",
     "text": [
      "[0 2 4 6 8]\n",
      "[10  8  6  4  2]\n",
      "int32\n",
      "4\n",
      "20\n"
     ]
    }
   ],
   "source": [
    "# np arange\n",
    "\n",
    "print(np.arange(0,10,2))\n",
    "print(np.arange(10,0,-2))\n",
    "print(np.arange(0,10,2).dtype)\n",
    "print(np.arange(0,10,2).itemsize)\n",
    "print(np.arange(0,10,2).nbytes)"
   ]
  },
  {
   "cell_type": "code",
   "execution_count": 22,
   "metadata": {},
   "outputs": [
    {
     "name": "stdout",
     "output_type": "stream",
     "text": [
      "[0. 0. 0. 0. 0.]\n",
      "[1. 1. 1. 1. 1.]\n",
      "[61 61 61 61 61]\n",
      "[10 10 10 20 20 20 30 30 30]\n",
      "[[10 20 30]\n",
      " [10 20 30]\n",
      " [10 20 30]]\n",
      "[[10 20 30]]\n"
     ]
    }
   ],
   "source": [
    "print(np.zeros(5))\n",
    "print(np.ones(5))\n",
    "\n",
    "# 61den 5 tane\n",
    "print(np.repeat(61,5))\n",
    "\n",
    "# repeat eleman bazlı çalıştığı için 10 , 20 ,30 'dan 3er tane \n",
    "a = np.array([[10,20,30]])\n",
    "print(np.repeat(a,3))\n",
    "print(np.repeat(a,[3],axis=0))\n",
    "\n",
    "# 5 tane 61\n",
    "b = np.full(5,61)\n",
    "print(a)"
   ]
  },
  {
   "cell_type": "code",
   "execution_count": 23,
   "metadata": {},
   "outputs": [
    {
     "name": "stdout",
     "output_type": "stream",
     "text": [
      "[ 1  3  5  7  9 11 13 15 17 19]\n",
      "[ 2  4  6  8 10 12 14 16 18]\n"
     ]
    }
   ],
   "source": [
    "# odd and even numbers in np array\n",
    "\n",
    "arr1 = np.arange(1,20)\n",
    "\n",
    "odds = arr1[arr1 % 2 == 1]\n",
    "evens = arr1[arr1 % 2 == 0]\n",
    "\n",
    "print(odds)\n",
    "print(evens)"
   ]
  },
  {
   "cell_type": "code",
   "execution_count": 24,
   "metadata": {},
   "outputs": [
    {
     "name": "stdout",
     "output_type": "stream",
     "text": [
      "[10.  12.5 15.  17.5 20. ]\n",
      "[10. 11. 12. 13. 14. 15. 16. 17. 18. 19. 20.]\n"
     ]
    }
   ],
   "source": [
    "# np linspace\n",
    "\n",
    "print(np.linspace(10,20,5))\n",
    "print(np.linspace(10,20,11))\n"
   ]
  },
  {
   "cell_type": "code",
   "execution_count": 27,
   "metadata": {},
   "outputs": [
    {
     "name": "stdout",
     "output_type": "stream",
     "text": [
      "[0.49149564 0.55429162 0.23731973 0.6858485 ]\n",
      "[51 87 48]\n",
      "[99 18 34]\n",
      "[16 47 34]\n"
     ]
    }
   ],
   "source": [
    "# np random\n",
    "\n",
    "print(np.random.random(4))\n",
    "print(np.random.randint(0,100,3))\n",
    "\n",
    "# seed değeri setlenirse random değerler sürekli aynı gelir\n",
    "np.random.seed(61)\n",
    "print(np.random.randint(0,100,3))\n",
    "print(np.random.randint(0,100,3))\n"
   ]
  },
  {
   "cell_type": "code",
   "execution_count": 28,
   "metadata": {},
   "outputs": [
    {
     "name": "stdout",
     "output_type": "stream",
     "text": [
      "[4.91495639 5.54291621 2.3731973  6.85848502 9.37769661]\n",
      "[4. 5. 2. 6. 9.]\n",
      "[4 5 2 6 9]\n"
     ]
    }
   ],
   "source": [
    "# np uniform\n",
    "\n",
    "n1 = np.random.uniform(0,10,5)\n",
    "print(n1)\n",
    "print(np.floor(n1))\n",
    "\n",
    "n1 = n1.astype(int)\n",
    "print(n1)"
   ]
  },
  {
   "cell_type": "code",
   "execution_count": 44,
   "metadata": {},
   "outputs": [
    {
     "name": "stdout",
     "output_type": "stream",
     "text": [
      "mean :  -0.00461335452661976\n",
      "variance :  1.0471819388605008\n",
      "standart deviation :  1.0233190796914229\n",
      "---------------------------------------------\n",
      "mean :  -0.005066474704306692\n",
      "variance :  0.009589794639948208\n",
      "standart deviation :  0.09792749685327512\n"
     ]
    }
   ],
   "source": [
    "# gaussian dist\n",
    "\n",
    "n2 = np.random.randn(1000)\n",
    "print(\"mean : \" , np.mean(n2))\n",
    "print(\"variance : \" ,np.var(n2))\n",
    "print(\"standart deviation : \" ,np.std(n2))\n",
    "\n",
    "print(\"---------------------------------------------\")\n",
    "\n",
    "mu, sigma = 0, 0.1 # mean and standard deviation\n",
    "s = np.random.normal(mu, sigma, 1000)\n",
    "\n",
    "print(\"mean : \" , np.mean(s))\n",
    "print(\"variance : \" ,np.var(s))\n",
    "print(\"standart deviation : \" ,np.std(s))\n"
   ]
  },
  {
   "cell_type": "code",
   "execution_count": 46,
   "metadata": {},
   "outputs": [
    {
     "name": "stdout",
     "output_type": "stream",
     "text": [
      "0 5\n",
      "1 10\n",
      "2 15\n",
      "3 20\n",
      "4 25\n"
     ]
    }
   ],
   "source": [
    "arr1 = [i*5 for i in range(1,6)]\n",
    "for index , value in np.ndenumerate(arr1):\n",
    "    print(index[0] , value)"
   ]
  },
  {
   "cell_type": "code",
   "execution_count": 47,
   "metadata": {},
   "outputs": [
    {
     "name": "stdout",
     "output_type": "stream",
     "text": [
      "array :  [2, 4, 6, 8, 10, 12, 14, 16, 18]\n",
      "sum : 90\n",
      "cumulative sum :  [ 2  6 12 20 30 42 56 72 90]\n",
      "min :  2\n",
      "max :  18\n",
      "argmin :  0\n",
      "argmax :  8\n",
      "mean :  10.0\n",
      "median :  10.0\n",
      "variance :  26.666666666666668\n",
      "std :  5.163977794943222\n"
     ]
    }
   ],
   "source": [
    "arr = [i*2 for i in range(1,10)]\n",
    "\n",
    "print(\"array : \" , arr)\n",
    "print(\"sum :\" , np.sum(arr))\n",
    "print(\"cumulative sum : \" , np.cumsum(arr))\n",
    "\n",
    "# min max argmin argmax mean median std variance\n",
    "\n",
    "print(\"min : \" , np.min(arr))\n",
    "print(\"max : \" , np.max(arr))\n",
    "print(\"argmin : \" , np.argmin(arr))\n",
    "print(\"argmax : \" , np.argmax(arr))\n",
    "print(\"mean : \" ,np.mean(arr))\n",
    "print(\"median : \" , np.median(arr))\n",
    "print(\"variance : \" , np.var(arr))\n",
    "print(\"std : \" ,np.std(arr))"
   ]
  },
  {
   "cell_type": "code",
   "execution_count": 48,
   "metadata": {},
   "outputs": [
    {
     "name": "stdout",
     "output_type": "stream",
     "text": [
      "[[ 1  2 -5  4]\n",
      " [ 7 -2 13  4]\n",
      " [-8  2  9  8]\n",
      " [ 1 -2  4  7]]\n",
      "sum :  45\n",
      "max :  13\n",
      "min :  -8\n",
      "min value of each columns :  [-8 -2 -5  4]\n",
      "min value of each rows :  [-5 -2 -8 -2]\n",
      "mean :  2.8125\n",
      "mean of columns :  [0.25 0.   5.25 5.75]\n",
      "mean of rows :  [0.5  5.5  2.75 2.5 ]\n",
      "variance :  27.52734375\n",
      "variance of columns :  [28.6875  4.     45.1875  3.1875]\n",
      "variance of rows :  [11.25   29.25   45.6875 11.25  ]\n",
      "standart deviation :  5.246650717362458\n",
      "standart deviation of columns :  [5.35607132 2.         6.72216483 1.78535711]\n",
      "standart deviation of rows :  [3.35410197 5.40832691 6.75925292 3.35410197]\n"
     ]
    }
   ],
   "source": [
    "# np multidimensional arrays\n",
    "\n",
    "A = np.array([[1,2,-5,4],[7,-2,13,4],[-8,2,9,8],[1,-2,4,7]])\n",
    "print(A),\n",
    "\n",
    "print(\"sum : \" , A.sum())\n",
    "print(\"max : \" , A.max())\n",
    "print(\"min : \" , A.min()) \n",
    "\n",
    "# sutun bazında\n",
    "print(\"min value of each columns : \" , np.amin(A,axis=0))\n",
    "\n",
    "# satır bazında\n",
    "print(\"min value of each rows : \" , np.amin(A,axis=1))\n",
    "\n",
    "print(\"mean : \",np.mean(A))\n",
    "print(\"mean of columns : \",np.mean(A,axis=0))\n",
    "print(\"mean of rows : \",np.mean(A,axis=1))\n",
    "\n",
    "print(\"variance : \" , np.var(A))\n",
    "print(\"variance of columns : \" , np.var(A,axis=0))\n",
    "print(\"variance of rows : \" , np.var(A,axis=1))\n",
    "\n",
    "print(\"standart deviation : \" , np.std(A))\n",
    "print(\"standart deviation of columns : \" , np.std(A,axis=0))\n",
    "print(\"standart deviation of rows : \" , np.std(A,axis=1))\n"
   ]
  },
  {
   "cell_type": "code",
   "execution_count": 49,
   "metadata": {},
   "outputs": [
    {
     "name": "stdout",
     "output_type": "stream",
     "text": [
      "(0, 0) 1\n",
      "(0, 1) 2\n",
      "(0, 2) -5\n",
      "(0, 3) 4\n",
      "(1, 0) 7\n",
      "(1, 1) -2\n",
      "(1, 2) 13\n",
      "(1, 3) 4\n",
      "(2, 0) -8\n",
      "(2, 1) 2\n",
      "(2, 2) 9\n",
      "(2, 3) 8\n",
      "(3, 0) 1\n",
      "(3, 1) -2\n",
      "(3, 2) 4\n",
      "(3, 3) 7\n"
     ]
    }
   ],
   "source": [
    "for index, value in np.ndenumerate(A) :\n",
    "    print(index,value)"
   ]
  },
  {
   "cell_type": "code",
   "execution_count": 50,
   "metadata": {},
   "outputs": [
    {
     "name": "stdout",
     "output_type": "stream",
     "text": [
      "1\n",
      "9\n",
      "9\n",
      "[1 3 5 8]\n",
      "[8 4 2]\n"
     ]
    }
   ],
   "source": [
    "a = np.array([1,3,5,8,4,2,9])\n",
    "\n",
    "print(a[0])\n",
    "print(a[len(a)-1])\n",
    "print(a[-1])\n",
    "print(a[0:4])\n",
    "print(a[-4:-1])\n"
   ]
  },
  {
   "cell_type": "code",
   "execution_count": 51,
   "metadata": {},
   "outputs": [
    {
     "name": "stdout",
     "output_type": "stream",
     "text": [
      "[ 1  0  3  0  5  0  7  0  9  0 11  0 13  0 15  0 17  0 19]\n",
      "[61 20 30 61 50]\n"
     ]
    }
   ],
   "source": [
    "# np where\n",
    "\n",
    "arr = np.arange(1,20)\n",
    "\n",
    "#replace even numbers to 0\n",
    "a1 = np.where(arr % 2 == 0 , 0 , arr)\n",
    "print(a1)\n",
    "\n",
    "arr2 = np.array([10,20,30,10,50])\n",
    "\n",
    "# replace 10 to 61\n",
    "a2 = np.where(arr2 == 10 , 61 , arr2)\n",
    "print(a2)"
   ]
  },
  {
   "cell_type": "code",
   "execution_count": 52,
   "metadata": {},
   "outputs": [
    {
     "name": "stdout",
     "output_type": "stream",
     "text": [
      "[ 0 10 20 30 40 50 60 70 80 90]\n",
      "[61 61 20 61 40 50 60 61 80 90]\n"
     ]
    }
   ],
   "source": [
    "# np put\n",
    "\n",
    "arr3 = np.arange(0,100,10)\n",
    "print(arr3)\n",
    "\n",
    "# replace value of given index to given numbers\n",
    "# put(array,indexs,numbers)\n",
    "\n",
    "np.put(arr3 , [0,1,3,7], [61,61,61,61])\n",
    "print(arr3)"
   ]
  },
  {
   "cell_type": "code",
   "execution_count": 53,
   "metadata": {},
   "outputs": [
    {
     "name": "stdout",
     "output_type": "stream",
     "text": [
      "[False  True False False False  True False False False]\n",
      "(array([1, 5], dtype=int64),)\n",
      "index of missing values :  [1 5]\n",
      "count of missing values :  2\n",
      "[10. 16. 11. 54. 61. 16. inf 61. 41.]\n"
     ]
    }
   ],
   "source": [
    "# missing values\n",
    "\n",
    "a = np.array([10,np.nan , 11, 54, 61 , np.nan , np.inf , 61 , 41])\n",
    "\n",
    "print(np.isnan(a))\n",
    "print(np.where(np.isnan(a)))\n",
    "print(\"index of missing values : \",np.where(np.isnan(a))[0])\n",
    "print(\"count of missing values : \",len(np.where(np.isnan(a))[0]))\n",
    "\n",
    "# replace missing values to 16\n",
    "a[np.isnan(a)] = 16\n",
    "print(a)"
   ]
  },
  {
   "cell_type": "code",
   "execution_count": 54,
   "metadata": {},
   "outputs": [
    {
     "name": "stdout",
     "output_type": "stream",
     "text": [
      "[[ 4. -3. nan]\n",
      " [nan nan 61.]\n",
      " [ 1.  2.  3.]]\n",
      "(array([0, 1, 1], dtype=int64), array([2, 0, 1], dtype=int64))\n",
      "[0 1 1]\n",
      "[2 0 1]\n"
     ]
    }
   ],
   "source": [
    "A = np.array([[4,-3,np.nan],[np.nan,np.nan,61],[1,2,3]])\n",
    "\n",
    "print(A)\n",
    "\n",
    "print(np.where(np.isnan(A)))\n",
    "print(np.where(np.isnan(A))[0])\n",
    "print(np.where(np.isnan(A))[1])"
   ]
  }
 ],
 "metadata": {
  "interpreter": {
   "hash": "0a54084e6b208ee8d1ce3989ffc20924477a5f55f5a43e22e699a6741623861e"
  },
  "kernelspec": {
   "display_name": "Python 3.7.8 64-bit",
   "language": "python",
   "name": "python3"
  },
  "language_info": {
   "codemirror_mode": {
    "name": "ipython",
    "version": 3
   },
   "file_extension": ".py",
   "mimetype": "text/x-python",
   "name": "python",
   "nbconvert_exporter": "python",
   "pygments_lexer": "ipython3",
   "version": "3.7.8"
  },
  "orig_nbformat": 4
 },
 "nbformat": 4,
 "nbformat_minor": 2
}
