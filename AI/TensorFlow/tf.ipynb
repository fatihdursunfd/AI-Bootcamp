{
 "cells": [
  {
   "cell_type": "code",
   "execution_count": 1,
   "metadata": {},
   "outputs": [
    {
     "name": "stdout",
     "output_type": "stream",
     "text": [
      "2.9.1\n"
     ]
    }
   ],
   "source": [
    "import tensorflow as tf\n",
    "print(tf.__version__)"
   ]
  },
  {
   "cell_type": "code",
   "execution_count": 2,
   "metadata": {},
   "outputs": [
    {
     "name": "stdout",
     "output_type": "stream",
     "text": [
      "b'Hello Tensorflow'\n"
     ]
    }
   ],
   "source": [
    "with tf.compat.v1.Session() as sess:\n",
    "    hello = tf.constant(\"Hello Tensorflow\")\n",
    "    result = sess.run(hello)\n",
    "    print(result)"
   ]
  },
  {
   "cell_type": "code",
   "execution_count": 4,
   "metadata": {},
   "outputs": [
    {
     "name": "stdout",
     "output_type": "stream",
     "text": [
      "[[6 6 6]\n",
      " [6 6 6]\n",
      " [6 6 6]]\n",
      "[[3 3 3]\n",
      " [3 3 3]\n",
      " [3 3 3]]\n",
      "55.999992\n"
     ]
    }
   ],
   "source": [
    "with tf.compat.v1.Session() as sess:\n",
    "    \n",
    "    matrix1 = np.array([(2,2,2),(2,2,2),(2,2,2)] , dtype = 'int32')\n",
    "    matrix2 = np.array([(1,1,1),(1,1,1),(1,1,1)] , dtype = 'int32')\n",
    "\n",
    "    matrix1 = tf.constant(matrix1)   \n",
    "    matrix2 = tf.constant(matrix2)   \n",
    "\n",
    "    matrix3 = np.array([(2,7,2),(1,4,2),(9,0,2)] , dtype= 'float32' )\n",
    "    matrix_det = tf.linalg.det(matrix3)\n",
    "\n",
    "    matrix_product = tf.matmul(matrix1 , matrix2)\n",
    "    matrix_sum = tf.add(matrix1 , matrix2)\n",
    "\n",
    "    result1 = sess.run(matrix_product)\n",
    "    result2 = sess.run(matrix_sum)\n",
    "    result3 = sess.run(matrix_det)\n",
    "\n",
    "    print(result1)\n",
    "    print(result2)\n",
    "    print(result3)\n"
   ]
  },
  {
   "cell_type": "code",
   "execution_count": 5,
   "metadata": {},
   "outputs": [],
   "source": [
    "import warnings \n",
    "warnings.filterwarnings('ignore')"
   ]
  },
  {
   "cell_type": "code",
   "execution_count": 6,
   "metadata": {},
   "outputs": [],
   "source": [
    "import pandas as pd\n",
    "import numpy as np\n",
    "import tensorflow as tf\n",
    "import matplotlib.pyplot as plt\n",
    "from keras.models import Sequential\n",
    "from keras.layers import Dense, Conv2D, Dropout, Flatten, MaxPooling2D\n",
    "from keras.utils import to_categorical"
   ]
  },
  {
   "cell_type": "code",
   "execution_count": 7,
   "metadata": {},
   "outputs": [
    {
     "name": "stdout",
     "output_type": "stream",
     "text": [
      "Downloading data from https://storage.googleapis.com/tensorflow/tf-keras-datasets/mnist.npz\n",
      "11490434/11490434 [==============================] - 256s 22us/step\n"
     ]
    }
   ],
   "source": [
    "(X_train, y_train), (X_test, y_test) = tf.keras.datasets.mnist.load_data()"
   ]
  },
  {
   "cell_type": "code",
   "execution_count": 8,
   "metadata": {},
   "outputs": [
    {
     "data": {
      "image/png": "[encoded data removed]",
      "text/plain": [
       "<Figure size 288x216 with 12 Axes>"
      ]
     },
     "metadata": {
      "needs_background": "light"
     },
     "output_type": "display_data"
    }
   ],
   "source": [
    "plt.figure(figsize = (4,3))\n",
    "for i in range(12):\n",
    "    plt.subplot(4, 3, i+1)\n",
    "    plt.grid(False)\n",
    "    plt.imshow(X_train[i], cmap = plt.cm.binary)\n",
    "plt.show()"
   ]
  },
  {
   "cell_type": "code",
   "execution_count": 11,
   "metadata": {},
   "outputs": [
    {
     "data": {
      "text/plain": [
       "60000"
      ]
     },
     "execution_count": 11,
     "metadata": {},
     "output_type": "execute_result"
    }
   ],
   "source": [
    "X_train.shape[0]"
   ]
  },
  {
   "cell_type": "code",
   "execution_count": 12,
   "metadata": {},
   "outputs": [],
   "source": [
    "X_train = X_train.reshape(60000, 28, 28, 1)\n",
    "X_test = X_test.reshape(10000, 28, 28, 1)"
   ]
  },
  {
   "cell_type": "code",
   "execution_count": 13,
   "metadata": {},
   "outputs": [],
   "source": [
    "y_train = to_categorical(y_train)\n",
    "y_test = to_categorical(y_test)"
   ]
  },
  {
   "cell_type": "code",
   "execution_count": 14,
   "metadata": {},
   "outputs": [],
   "source": [
    "X_train = X_train / 255\n",
    "X_test = X_test / 255"
   ]
  },
  {
   "cell_type": "code",
   "execution_count": 15,
   "metadata": {},
   "outputs": [],
   "source": [
    "#Create Keras Modal\n",
    "input_shape = (28,28,1)\n",
    "model = Sequential()\n",
    "model.add(Conv2D(32, kernel_size = (3,3), input_shape = input_shape))\n",
    "model.add(MaxPooling2D(pool_size = (2,2)))\n",
    "model.add(Flatten())\n",
    "model.add(Dense(64, activation = \"relu\"))\n",
    "model.add(Dropout(0.4))\n",
    "model.add(Dense(10, activation = \"softmax\"))"
   ]
  },
  {
   "cell_type": "code",
   "execution_count": 16,
   "metadata": {},
   "outputs": [],
   "source": [
    "model.compile(\n",
    "    optimizer = \"adam\",\n",
    "    loss = \"categorical_crossentropy\",\n",
    "    metrics = [\"accuracy\"])"
   ]
  },
  {
   "cell_type": "code",
   "execution_count": 30,
   "metadata": {},
   "outputs": [
    {
     "name": "stdout",
     "output_type": "stream",
     "text": [
      "You must install pydot (`pip install pydot`) and install graphviz (see instructions at https://graphviz.gitlab.io/download/) for plot_model/model_to_dot to work.\n"
     ]
    }
   ],
   "source": [
    "from keras.utils.vis_utils import plot_model\n",
    "\n",
    "plot_model(model, \"AIUP_mnist.png\", show_shapes = True, show_layer_names = True)"
   ]
  },
  {
   "cell_type": "code",
   "execution_count": 31,
   "metadata": {},
   "outputs": [
    {
     "name": "stdout",
     "output_type": "stream",
     "text": [
      "Epoch 1/5\n",
      "3000/3000 - 32s - loss: 0.3261 - accuracy: 0.9005 - val_loss: 0.1072 - val_accuracy: 0.9682 - 32s/epoch - 11ms/step\n",
      "Epoch 2/5\n",
      "3000/3000 - 29s - loss: 0.1638 - accuracy: 0.9504 - val_loss: 0.0857 - val_accuracy: 0.9758 - 29s/epoch - 10ms/step\n",
      "Epoch 3/5\n",
      "3000/3000 - 28s - loss: 0.1273 - accuracy: 0.9603 - val_loss: 0.0734 - val_accuracy: 0.9778 - 28s/epoch - 9ms/step\n",
      "Epoch 4/5\n",
      "3000/3000 - 28s - loss: 0.1053 - accuracy: 0.9672 - val_loss: 0.0899 - val_accuracy: 0.9739 - 28s/epoch - 9ms/step\n",
      "Epoch 5/5\n",
      "3000/3000 - 28s - loss: 0.0978 - accuracy: 0.9700 - val_loss: 0.0789 - val_accuracy: 0.9785 - 28s/epoch - 9ms/step\n"
     ]
    }
   ],
   "source": [
    "history = model.fit(\n",
    "    X_train,\n",
    "    y_train,\n",
    "    verbose = 2,\n",
    "    epochs = 5,\n",
    "    batch_size = 16,\n",
    "    validation_split = 0.2)"
   ]
  },
  {
   "cell_type": "code",
   "execution_count": 32,
   "metadata": {},
   "outputs": [
    {
     "data": {
      "image/png": "[encoded data removed]",
      "text/plain": [
       "<Figure size 432x288 with 1 Axes>"
      ]
     },
     "metadata": {
      "needs_background": "light"
     },
     "output_type": "display_data"
    }
   ],
   "source": [
    "plt.plot(history.history[\"accuracy\"], \"--\")\n",
    "plt.plot(history.history[\"val_accuracy\"])\n",
    "plt.title(\"Model Performansı\")\n",
    "plt.ylabel(\"Doğruluk\")\n",
    "plt.xlabel(\"Devir sayısı\")\n",
    "plt.legend([\"Eğitim\", \"Doğrulama\"], loc = \"lower right\")\n",
    "plt.show()"
   ]
  },
  {
   "cell_type": "code",
   "execution_count": 33,
   "metadata": {},
   "outputs": [
    {
     "data": {
      "image/png": "[encoded data removed]",
      "text/plain": [
       "<Figure size 432x288 with 1 Axes>"
      ]
     },
     "metadata": {
      "needs_background": "light"
     },
     "output_type": "display_data"
    }
   ],
   "source": [
    "plt.plot(history.history[\"loss\"], \"--\")\n",
    "plt.plot(history.history[\"val_loss\"])\n",
    "plt.title(\"Model Hatası\")\n",
    "plt.ylabel(\"Hata\")\n",
    "plt.xlabel(\"Devir sayısı\")\n",
    "plt.legend([\"Eğitim\", \"Doğrulama\"], loc = \"upper right\")\n",
    "plt.show()"
   ]
  },
  {
   "cell_type": "code",
   "execution_count": 34,
   "metadata": {},
   "outputs": [
    {
     "name": "stdout",
     "output_type": "stream",
     "text": [
      "Test verisiyle model doğruluğu : 97.92\n"
     ]
    }
   ],
   "source": [
    "score = model.evaluate(X_test, y_test, verbose = 0)\n",
    "print(\"Test verisiyle model doğruluğu : %.2f\" % (score[1] * 100))"
   ]
  }
 ],
 "metadata": {
  "interpreter": {
   "hash": "66b94497dab2d27425e3f2091c3c7dc2ea75cd7e2b5124c371513e42475b1791"
  },
  "kernelspec": {
   "display_name": "Python 3.10.4 64-bit",
   "language": "python",
   "name": "python3"
  },
  "language_info": {
   "codemirror_mode": {
    "name": "ipython",
    "version": 3
   },
   "file_extension": ".py",
   "mimetype": "text/x-python",
   "name": "python",
   "nbconvert_exporter": "python",
   "pygments_lexer": "ipython3",
   "version": "3.10.4"
  },
  "orig_nbformat": 4
 },
 "nbformat": 4,
 "nbformat_minor": 2
}
