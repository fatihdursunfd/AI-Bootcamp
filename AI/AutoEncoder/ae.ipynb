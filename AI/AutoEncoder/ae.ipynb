{
 "cells": [
  {
   "cell_type": "code",
   "execution_count": 1,
   "metadata": {},
   "outputs": [],
   "source": [
    "from keras.datasets import imdb\n",
    "from keras.models import Sequential\n",
    "from keras.layers import Dense\n",
    "from keras.layers import Embedding, SimpleRNN\n",
    "import tensorflow as tf"
   ]
  },
  {
   "cell_type": "code",
   "execution_count": 2,
   "metadata": {},
   "outputs": [],
   "source": [
    "import numpy as np\n",
    "import pandas as pd\n",
    "import matplotlib.pyplot as plt\n",
    "from keras.layers import Input , Dense \n",
    "from keras.models import Model"
   ]
  },
  {
   "cell_type": "code",
   "execution_count": 5,
   "metadata": {},
   "outputs": [],
   "source": [
    "data = pd.read_csv(\"https://archive.ics.uci.edu/ml/machine-learning-databases/haberman/haberman.data\", \n",
    "    names=[\n",
    "    \"Age_of_patient\",\n",
    "    \"year_of_operation\",\n",
    "    \"positive_axillary_nodes\",\n",
    "    \"Survival_status\",\n",
    "    ]\n",
    ")"
   ]
  },
  {
   "cell_type": "code",
   "execution_count": 6,
   "metadata": {},
   "outputs": [
    {
     "data": {
      "text/html": [
       "<div>\n",
       "<style scoped>\n",
       "    .dataframe tbody tr th:only-of-type {\n",
       "        vertical-align: middle;\n",
       "    }\n",
       "\n",
       "    .dataframe tbody tr th {\n",
       "        vertical-align: top;\n",
       "    }\n",
       "\n",
       "    .dataframe thead th {\n",
       "        text-align: right;\n",
       "    }\n",
       "</style>\n",
       "<table border=\"1\" class=\"dataframe\">\n",
       "  <thead>\n",
       "    <tr style=\"text-align: right;\">\n",
       "      <th></th>\n",
       "      <th>Age_of_patient</th>\n",
       "      <th>year_of_operation</th>\n",
       "      <th>positive_axillary_nodes</th>\n",
       "      <th>Survival_status</th>\n",
       "    </tr>\n",
       "  </thead>\n",
       "  <tbody>\n",
       "    <tr>\n",
       "      <th>0</th>\n",
       "      <td>30</td>\n",
       "      <td>64</td>\n",
       "      <td>1</td>\n",
       "      <td>1</td>\n",
       "    </tr>\n",
       "    <tr>\n",
       "      <th>1</th>\n",
       "      <td>30</td>\n",
       "      <td>62</td>\n",
       "      <td>3</td>\n",
       "      <td>1</td>\n",
       "    </tr>\n",
       "    <tr>\n",
       "      <th>2</th>\n",
       "      <td>30</td>\n",
       "      <td>65</td>\n",
       "      <td>0</td>\n",
       "      <td>1</td>\n",
       "    </tr>\n",
       "    <tr>\n",
       "      <th>3</th>\n",
       "      <td>31</td>\n",
       "      <td>59</td>\n",
       "      <td>2</td>\n",
       "      <td>1</td>\n",
       "    </tr>\n",
       "    <tr>\n",
       "      <th>4</th>\n",
       "      <td>31</td>\n",
       "      <td>65</td>\n",
       "      <td>4</td>\n",
       "      <td>1</td>\n",
       "    </tr>\n",
       "  </tbody>\n",
       "</table>\n",
       "</div>"
      ],
      "text/plain": [
       "   Age_of_patient  year_of_operation  positive_axillary_nodes  Survival_status\n",
       "0              30                 64                        1                1\n",
       "1              30                 62                        3                1\n",
       "2              30                 65                        0                1\n",
       "3              31                 59                        2                1\n",
       "4              31                 65                        4                1"
      ]
     },
     "execution_count": 6,
     "metadata": {},
     "output_type": "execute_result"
    }
   ],
   "source": [
    "data.head()"
   ]
  },
  {
   "cell_type": "code",
   "execution_count": 8,
   "metadata": {},
   "outputs": [
    {
     "data": {
      "text/plain": [
       "(306, 4)"
      ]
     },
     "execution_count": 8,
     "metadata": {},
     "output_type": "execute_result"
    }
   ],
   "source": [
    "data.shape"
   ]
  },
  {
   "cell_type": "code",
   "execution_count": 9,
   "metadata": {},
   "outputs": [],
   "source": [
    "X = data.drop(\"Survival_status\" , axis = 1)\n",
    "y = data[\"Survival_status\"]"
   ]
  },
  {
   "cell_type": "code",
   "execution_count": 12,
   "metadata": {},
   "outputs": [],
   "source": [
    "from sklearn.preprocessing import MinMaxScaler\n",
    "scaler = MinMaxScaler()\n",
    "\n",
    "X = scaler.fit_transform(X)"
   ]
  },
  {
   "cell_type": "code",
   "execution_count": 13,
   "metadata": {},
   "outputs": [],
   "source": [
    "feature_count = X.shape[1]\n",
    "input_count = Input(shape=(feature_count ,))\n",
    "\n",
    "bottleneck_shape = 2"
   ]
  },
  {
   "cell_type": "code",
   "execution_count": 15,
   "metadata": {},
   "outputs": [],
   "source": [
    "encoder = Dense(3 , activation=\"relu\")(input_count)\n",
    "encoder = Dense(3 , activation=\"relu\")(input_count)\n",
    "encoder = Dense(bottleneck_shape , activation=\"relu\")(encoder)\n",
    "\n",
    "decoder = Dense(3 , activation=\"relu\")(encoder)\n",
    "decoder = Dense(feature_count , activation=\"sigmoid\")(encoder)\n",
    "\n",
    "auto_encoder = Model(inputs = input_count , outputs = decoder)"
   ]
  },
  {
   "cell_type": "code",
   "execution_count": 17,
   "metadata": {},
   "outputs": [],
   "source": [
    "auto_encoder.compile(\n",
    "    loss = \"mse\",\n",
    "    optimizer = \"adam\"\n",
    ")"
   ]
  },
  {
   "cell_type": "code",
   "execution_count": 19,
   "metadata": {},
   "outputs": [
    {
     "name": "stdout",
     "output_type": "stream",
     "text": [
      "Epoch 1/100\n",
      "16/16 - 1s - loss: 0.1100 - val_loss: 0.1216 - 1s/epoch - 92ms/step\n",
      "Epoch 2/100\n",
      "16/16 - 0s - loss: 0.1078 - val_loss: 0.1203 - 64ms/epoch - 4ms/step\n",
      "Epoch 3/100\n",
      "16/16 - 0s - loss: 0.1060 - val_loss: 0.1191 - 73ms/epoch - 5ms/step\n",
      "Epoch 4/100\n",
      "16/16 - 0s - loss: 0.1044 - val_loss: 0.1181 - 86ms/epoch - 5ms/step\n",
      "Epoch 5/100\n",
      "16/16 - 0s - loss: 0.1028 - val_loss: 0.1174 - 74ms/epoch - 5ms/step\n",
      "Epoch 6/100\n",
      "16/16 - 0s - loss: 0.1014 - val_loss: 0.1168 - 214ms/epoch - 13ms/step\n",
      "Epoch 7/100\n",
      "16/16 - 0s - loss: 0.1000 - val_loss: 0.1162 - 105ms/epoch - 7ms/step\n",
      "Epoch 8/100\n",
      "16/16 - 0s - loss: 0.0986 - val_loss: 0.1156 - 121ms/epoch - 8ms/step\n",
      "Epoch 9/100\n",
      "16/16 - 0s - loss: 0.0972 - val_loss: 0.1151 - 102ms/epoch - 6ms/step\n",
      "Epoch 10/100\n",
      "16/16 - 0s - loss: 0.0959 - val_loss: 0.1146 - 92ms/epoch - 6ms/step\n",
      "Epoch 11/100\n",
      "16/16 - 0s - loss: 0.0946 - val_loss: 0.1141 - 91ms/epoch - 6ms/step\n",
      "Epoch 12/100\n",
      "16/16 - 0s - loss: 0.0934 - val_loss: 0.1137 - 93ms/epoch - 6ms/step\n",
      "Epoch 13/100\n",
      "16/16 - 0s - loss: 0.0922 - val_loss: 0.1133 - 96ms/epoch - 6ms/step\n",
      "Epoch 14/100\n",
      "16/16 - 0s - loss: 0.0911 - val_loss: 0.1128 - 85ms/epoch - 5ms/step\n",
      "Epoch 15/100\n",
      "16/16 - 0s - loss: 0.0899 - val_loss: 0.1124 - 79ms/epoch - 5ms/step\n",
      "Epoch 16/100\n",
      "16/16 - 0s - loss: 0.0888 - val_loss: 0.1120 - 70ms/epoch - 4ms/step\n",
      "Epoch 17/100\n",
      "16/16 - 0s - loss: 0.0877 - val_loss: 0.1116 - 68ms/epoch - 4ms/step\n",
      "Epoch 18/100\n",
      "16/16 - 0s - loss: 0.0867 - val_loss: 0.1112 - 74ms/epoch - 5ms/step\n",
      "Epoch 19/100\n",
      "16/16 - 0s - loss: 0.0857 - val_loss: 0.1109 - 68ms/epoch - 4ms/step\n",
      "Epoch 20/100\n",
      "16/16 - 0s - loss: 0.0847 - val_loss: 0.1105 - 78ms/epoch - 5ms/step\n",
      "Epoch 21/100\n",
      "16/16 - 0s - loss: 0.0837 - val_loss: 0.1102 - 63ms/epoch - 4ms/step\n",
      "Epoch 22/100\n",
      "16/16 - 0s - loss: 0.0828 - val_loss: 0.1098 - 63ms/epoch - 4ms/step\n",
      "Epoch 23/100\n",
      "16/16 - 0s - loss: 0.0819 - val_loss: 0.1095 - 60ms/epoch - 4ms/step\n",
      "Epoch 24/100\n",
      "16/16 - 0s - loss: 0.0809 - val_loss: 0.1093 - 62ms/epoch - 4ms/step\n",
      "Epoch 25/100\n",
      "16/16 - 0s - loss: 0.0801 - val_loss: 0.1090 - 62ms/epoch - 4ms/step\n",
      "Epoch 26/100\n",
      "16/16 - 0s - loss: 0.0792 - val_loss: 0.1087 - 66ms/epoch - 4ms/step\n",
      "Epoch 27/100\n",
      "16/16 - 0s - loss: 0.0784 - val_loss: 0.1084 - 63ms/epoch - 4ms/step\n",
      "Epoch 28/100\n",
      "16/16 - 0s - loss: 0.0776 - val_loss: 0.1081 - 77ms/epoch - 5ms/step\n",
      "Epoch 29/100\n",
      "16/16 - 0s - loss: 0.0768 - val_loss: 0.1078 - 66ms/epoch - 4ms/step\n",
      "Epoch 30/100\n",
      "16/16 - 0s - loss: 0.0760 - val_loss: 0.1075 - 63ms/epoch - 4ms/step\n",
      "Epoch 31/100\n",
      "16/16 - 0s - loss: 0.0753 - val_loss: 0.1073 - 70ms/epoch - 4ms/step\n",
      "Epoch 32/100\n",
      "16/16 - 0s - loss: 0.0746 - val_loss: 0.1070 - 314ms/epoch - 20ms/step\n",
      "Epoch 33/100\n",
      "16/16 - 0s - loss: 0.0739 - val_loss: 0.1067 - 347ms/epoch - 22ms/step\n",
      "Epoch 34/100\n",
      "16/16 - 0s - loss: 0.0732 - val_loss: 0.1064 - 145ms/epoch - 9ms/step\n",
      "Epoch 35/100\n",
      "16/16 - 0s - loss: 0.0725 - val_loss: 0.1062 - 133ms/epoch - 8ms/step\n",
      "Epoch 36/100\n",
      "16/16 - 0s - loss: 0.0718 - val_loss: 0.1059 - 154ms/epoch - 10ms/step\n",
      "Epoch 37/100\n",
      "16/16 - 0s - loss: 0.0712 - val_loss: 0.1057 - 124ms/epoch - 8ms/step\n",
      "Epoch 38/100\n",
      "16/16 - 0s - loss: 0.0706 - val_loss: 0.1054 - 134ms/epoch - 8ms/step\n",
      "Epoch 39/100\n",
      "16/16 - 0s - loss: 0.0700 - val_loss: 0.1051 - 123ms/epoch - 8ms/step\n",
      "Epoch 40/100\n",
      "16/16 - 0s - loss: 0.0694 - val_loss: 0.1049 - 101ms/epoch - 6ms/step\n",
      "Epoch 41/100\n",
      "16/16 - 0s - loss: 0.0688 - val_loss: 0.1047 - 103ms/epoch - 6ms/step\n",
      "Epoch 42/100\n",
      "16/16 - 0s - loss: 0.0682 - val_loss: 0.1045 - 101ms/epoch - 6ms/step\n",
      "Epoch 43/100\n",
      "16/16 - 0s - loss: 0.0676 - val_loss: 0.1043 - 99ms/epoch - 6ms/step\n",
      "Epoch 44/100\n",
      "16/16 - 0s - loss: 0.0671 - val_loss: 0.1040 - 88ms/epoch - 5ms/step\n",
      "Epoch 45/100\n",
      "16/16 - 0s - loss: 0.0666 - val_loss: 0.1038 - 94ms/epoch - 6ms/step\n",
      "Epoch 46/100\n",
      "16/16 - 0s - loss: 0.0661 - val_loss: 0.1036 - 99ms/epoch - 6ms/step\n",
      "Epoch 47/100\n",
      "16/16 - 0s - loss: 0.0655 - val_loss: 0.1034 - 90ms/epoch - 6ms/step\n",
      "Epoch 48/100\n",
      "16/16 - 0s - loss: 0.0651 - val_loss: 0.1031 - 90ms/epoch - 6ms/step\n",
      "Epoch 49/100\n",
      "16/16 - 0s - loss: 0.0646 - val_loss: 0.1029 - 85ms/epoch - 5ms/step\n",
      "Epoch 50/100\n",
      "16/16 - 0s - loss: 0.0641 - val_loss: 0.1027 - 87ms/epoch - 5ms/step\n",
      "Epoch 51/100\n",
      "16/16 - 0s - loss: 0.0637 - val_loss: 0.1025 - 101ms/epoch - 6ms/step\n",
      "Epoch 52/100\n",
      "16/16 - 0s - loss: 0.0632 - val_loss: 0.1022 - 91ms/epoch - 6ms/step\n",
      "Epoch 53/100\n",
      "16/16 - 0s - loss: 0.0628 - val_loss: 0.1020 - 84ms/epoch - 5ms/step\n",
      "Epoch 54/100\n",
      "16/16 - 0s - loss: 0.0624 - val_loss: 0.1018 - 70ms/epoch - 4ms/step\n",
      "Epoch 55/100\n",
      "16/16 - 0s - loss: 0.0619 - val_loss: 0.1016 - 75ms/epoch - 5ms/step\n",
      "Epoch 56/100\n",
      "16/16 - 0s - loss: 0.0615 - val_loss: 0.1014 - 84ms/epoch - 5ms/step\n",
      "Epoch 57/100\n",
      "16/16 - 0s - loss: 0.0611 - val_loss: 0.1012 - 71ms/epoch - 4ms/step\n",
      "Epoch 58/100\n",
      "16/16 - 0s - loss: 0.0607 - val_loss: 0.1010 - 81ms/epoch - 5ms/step\n",
      "Epoch 59/100\n",
      "16/16 - 0s - loss: 0.0604 - val_loss: 0.1008 - 77ms/epoch - 5ms/step\n",
      "Epoch 60/100\n",
      "16/16 - 0s - loss: 0.0600 - val_loss: 0.1006 - 83ms/epoch - 5ms/step\n",
      "Epoch 61/100\n",
      "16/16 - 0s - loss: 0.0596 - val_loss: 0.1004 - 69ms/epoch - 4ms/step\n",
      "Epoch 62/100\n",
      "16/16 - 0s - loss: 0.0593 - val_loss: 0.1002 - 77ms/epoch - 5ms/step\n",
      "Epoch 63/100\n",
      "16/16 - 0s - loss: 0.0589 - val_loss: 0.0999 - 86ms/epoch - 5ms/step\n",
      "Epoch 64/100\n",
      "16/16 - 0s - loss: 0.0586 - val_loss: 0.0997 - 202ms/epoch - 13ms/step\n",
      "Epoch 65/100\n",
      "16/16 - 0s - loss: 0.0582 - val_loss: 0.0995 - 109ms/epoch - 7ms/step\n",
      "Epoch 66/100\n",
      "16/16 - 0s - loss: 0.0579 - val_loss: 0.0993 - 86ms/epoch - 5ms/step\n",
      "Epoch 67/100\n",
      "16/16 - 0s - loss: 0.0576 - val_loss: 0.0990 - 88ms/epoch - 6ms/step\n",
      "Epoch 68/100\n",
      "16/16 - 0s - loss: 0.0572 - val_loss: 0.0988 - 83ms/epoch - 5ms/step\n",
      "Epoch 69/100\n",
      "16/16 - 0s - loss: 0.0569 - val_loss: 0.0985 - 69ms/epoch - 4ms/step\n",
      "Epoch 70/100\n",
      "16/16 - 0s - loss: 0.0566 - val_loss: 0.0982 - 65ms/epoch - 4ms/step\n",
      "Epoch 71/100\n",
      "16/16 - 0s - loss: 0.0562 - val_loss: 0.0980 - 58ms/epoch - 4ms/step\n",
      "Epoch 72/100\n",
      "16/16 - 0s - loss: 0.0559 - val_loss: 0.0976 - 65ms/epoch - 4ms/step\n",
      "Epoch 73/100\n",
      "16/16 - 0s - loss: 0.0556 - val_loss: 0.0973 - 61ms/epoch - 4ms/step\n",
      "Epoch 74/100\n",
      "16/16 - 0s - loss: 0.0553 - val_loss: 0.0969 - 67ms/epoch - 4ms/step\n",
      "Epoch 75/100\n",
      "16/16 - 0s - loss: 0.0549 - val_loss: 0.0966 - 63ms/epoch - 4ms/step\n",
      "Epoch 76/100\n",
      "16/16 - 0s - loss: 0.0546 - val_loss: 0.0961 - 63ms/epoch - 4ms/step\n",
      "Epoch 77/100\n",
      "16/16 - 0s - loss: 0.0543 - val_loss: 0.0959 - 67ms/epoch - 4ms/step\n",
      "Epoch 78/100\n",
      "16/16 - 0s - loss: 0.0540 - val_loss: 0.0955 - 61ms/epoch - 4ms/step\n",
      "Epoch 79/100\n",
      "16/16 - 0s - loss: 0.0537 - val_loss: 0.0952 - 57ms/epoch - 4ms/step\n",
      "Epoch 80/100\n",
      "16/16 - 0s - loss: 0.0534 - val_loss: 0.0949 - 65ms/epoch - 4ms/step\n",
      "Epoch 81/100\n",
      "16/16 - 0s - loss: 0.0531 - val_loss: 0.0946 - 59ms/epoch - 4ms/step\n",
      "Epoch 82/100\n",
      "16/16 - 0s - loss: 0.0528 - val_loss: 0.0946 - 60ms/epoch - 4ms/step\n",
      "Epoch 83/100\n",
      "16/16 - 0s - loss: 0.0525 - val_loss: 0.0941 - 64ms/epoch - 4ms/step\n",
      "Epoch 84/100\n",
      "16/16 - 0s - loss: 0.0522 - val_loss: 0.0941 - 65ms/epoch - 4ms/step\n",
      "Epoch 85/100\n",
      "16/16 - 0s - loss: 0.0520 - val_loss: 0.0939 - 63ms/epoch - 4ms/step\n",
      "Epoch 86/100\n",
      "16/16 - 0s - loss: 0.0517 - val_loss: 0.0938 - 76ms/epoch - 5ms/step\n",
      "Epoch 87/100\n",
      "16/16 - 0s - loss: 0.0515 - val_loss: 0.0936 - 58ms/epoch - 4ms/step\n",
      "Epoch 88/100\n",
      "16/16 - 0s - loss: 0.0512 - val_loss: 0.0935 - 56ms/epoch - 4ms/step\n",
      "Epoch 89/100\n",
      "16/16 - 0s - loss: 0.0510 - val_loss: 0.0934 - 59ms/epoch - 4ms/step\n",
      "Epoch 90/100\n",
      "16/16 - 0s - loss: 0.0507 - val_loss: 0.0932 - 62ms/epoch - 4ms/step\n",
      "Epoch 91/100\n",
      "16/16 - 0s - loss: 0.0505 - val_loss: 0.0930 - 61ms/epoch - 4ms/step\n",
      "Epoch 92/100\n",
      "16/16 - 0s - loss: 0.0503 - val_loss: 0.0930 - 208ms/epoch - 13ms/step\n",
      "Epoch 93/100\n",
      "16/16 - 0s - loss: 0.0500 - val_loss: 0.0930 - 183ms/epoch - 11ms/step\n",
      "Epoch 94/100\n",
      "16/16 - 0s - loss: 0.0498 - val_loss: 0.0930 - 134ms/epoch - 8ms/step\n",
      "Epoch 95/100\n",
      "16/16 - 0s - loss: 0.0496 - val_loss: 0.0927 - 106ms/epoch - 7ms/step\n",
      "Epoch 96/100\n",
      "16/16 - 0s - loss: 0.0494 - val_loss: 0.0924 - 119ms/epoch - 7ms/step\n",
      "Epoch 97/100\n",
      "16/16 - 0s - loss: 0.0491 - val_loss: 0.0923 - 109ms/epoch - 7ms/step\n",
      "Epoch 98/100\n",
      "16/16 - 0s - loss: 0.0489 - val_loss: 0.0923 - 103ms/epoch - 6ms/step\n",
      "Epoch 99/100\n",
      "16/16 - 0s - loss: 0.0487 - val_loss: 0.0921 - 103ms/epoch - 6ms/step\n",
      "Epoch 100/100\n",
      "16/16 - 0s - loss: 0.0485 - val_loss: 0.0921 - 93ms/epoch - 6ms/step\n"
     ]
    }
   ],
   "source": [
    "history = auto_encoder.fit(\n",
    "    X,\n",
    "    X,\n",
    "    epochs = 100,\n",
    "    batch_size= 16,\n",
    "    verbose = 2,\n",
    "    validation_split=0.2\n",
    ")"
   ]
  },
  {
   "cell_type": "code",
   "execution_count": 25,
   "metadata": {},
   "outputs": [
    {
     "data": {
      "image/png": "[encoded data removed]",
      "text/plain": [
       "<Figure size 432x288 with 1 Axes>"
      ]
     },
     "metadata": {
      "needs_background": "light"
     },
     "output_type": "display_data"
    }
   ],
   "source": [
    "import matplotlib.pyplot as plt\n",
    "plt.plot(history.history[\"loss\"], \"--\")\n",
    "plt.plot(history.history[\"val_loss\"])\n",
    "plt.title(\"Modal Performance\")\n",
    "plt.ylabel(\"Error\")\n",
    "plt.xlabel(\"Epoch\")\n",
    "plt.legend([\"Train error\", \"Validation error\"], loc = \"upper right\")\n",
    "plt.show()"
   ]
  },
  {
   "cell_type": "code",
   "execution_count": 32,
   "metadata": {},
   "outputs": [
    {
     "name": "stdout",
     "output_type": "stream",
     "text": [
      "10/10 [==============================] - 0s 2ms/step\n"
     ]
    },
    {
     "data": {
      "image/png": "[encoded data removed]",
      "text/plain": [
       "<Figure size 432x288 with 1 Axes>"
      ]
     },
     "metadata": {
      "needs_background": "light"
     },
     "output_type": "display_data"
    }
   ],
   "source": [
    "estimates = auto_encoder.predict(X)\n",
    "mse = np.mean(np.power(X - estimates , 2 ) , axis = 1)\n",
    "\n",
    "plt.plot(mse , linewidth =0.001 , marker=\".\")\n",
    "plt.title(\"Reconstruction Errors\")\n",
    "plt.ylabel(\"mse\")\n",
    "plt.xlabel(\"observations\")\n",
    "plt.show()"
   ]
  },
  {
   "cell_type": "code",
   "execution_count": 40,
   "metadata": {},
   "outputs": [
    {
     "name": "stdout",
     "output_type": "stream",
     "text": [
      "Threshold value :  0.14\n"
     ]
    }
   ],
   "source": [
    "threshold = 0.14\n",
    "print(\"Threshold value : \" , threshold)"
   ]
  },
  {
   "cell_type": "code",
   "execution_count": 41,
   "metadata": {},
   "outputs": [
    {
     "data": {
      "image/png": "[encoded data removed]",
      "text/plain": [
       "<Figure size 432x288 with 1 Axes>"
      ]
     },
     "metadata": {
      "needs_background": "light"
     },
     "output_type": "display_data"
    }
   ],
   "source": [
    "plt.plot(mse , linewidth =0.001 , marker=\".\")\n",
    "plt.axhline(y = threshold , color=\"r\")\n",
    "plt.title(\"Reconstruction Errors\")\n",
    "plt.ylabel(\"mse\")\n",
    "plt.xlabel(\"observations\")\n",
    "plt.show()"
   ]
  },
  {
   "cell_type": "code",
   "execution_count": 42,
   "metadata": {},
   "outputs": [
    {
     "name": "stdout",
     "output_type": "stream",
     "text": [
      "Anomaluy count :  8\n"
     ]
    }
   ],
   "source": [
    "anomaly = pd.DataFrame(data[mse > threshold])\n",
    "print(\"Anomaluy count : \" ,anomaly.shape[0])"
   ]
  },
  {
   "cell_type": "code",
   "execution_count": 44,
   "metadata": {},
   "outputs": [
    {
     "name": "stdout",
     "output_type": "stream",
     "text": [
      "anomaly values : \n",
      "      Age_of_patient  year_of_operation  positive_axillary_nodes  \\\n",
      "17               36                 69                        0   \n",
      "62               43                 58                       52   \n",
      "289              70                 68                        0   \n",
      "292              71                 68                        2   \n",
      "294              72                 58                        0   \n",
      "298              73                 68                        0   \n",
      "302              76                 67                        0   \n",
      "305              83                 58                        2   \n",
      "\n",
      "     Survival_status  \n",
      "17                 1  \n",
      "62                 2  \n",
      "289                1  \n",
      "292                1  \n",
      "294                1  \n",
      "298                1  \n",
      "302                1  \n",
      "305                2  \n"
     ]
    }
   ],
   "source": [
    "print(\"anomaly values : \\n\" ,anomaly)"
   ]
  },
  {
   "cell_type": "code",
   "execution_count": 47,
   "metadata": {},
   "outputs": [
    {
     "name": "stdout",
     "output_type": "stream",
     "text": [
      "old data (306, 4)\n",
      "new data (298, 4)\n"
     ]
    }
   ],
   "source": [
    "no_anomaly = pd.DataFrame(data[mse <= threshold])\n",
    "print(\"old data\" , data.shape)\n",
    "print(\"new data\" , no_anomaly.shape)"
   ]
  },
  {
   "cell_type": "code",
   "execution_count": null,
   "metadata": {},
   "outputs": [],
   "source": []
  }
 ],
 "metadata": {
  "kernelspec": {
   "display_name": "Python 3.10.4 64-bit",
   "language": "python",
   "name": "python3"
  },
  "language_info": {
   "codemirror_mode": {
    "name": "ipython",
    "version": 3
   },
   "file_extension": ".py",
   "mimetype": "text/x-python",
   "name": "python",
   "nbconvert_exporter": "python",
   "pygments_lexer": "ipython3",
   "version": "3.10.4"
  },
  "orig_nbformat": 4,
  "vscode": {
   "interpreter": {
    "hash": "66b94497dab2d27425e3f2091c3c7dc2ea75cd7e2b5124c371513e42475b1791"
   }
  }
 },
 "nbformat": 4,
 "nbformat_minor": 2
}
