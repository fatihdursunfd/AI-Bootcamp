{
 "cells": [
  {
   "cell_type": "code",
   "execution_count": 1,
   "metadata": {},
   "outputs": [],
   "source": [
    "# Classification\n",
    "# 1 - Binary (2 Classes)\n",
    "# 2 - Multiclass (More than 2 classes)\n",
    "# Algorithms:\n",
    "# Logistic Regression\n",
    "# KNN(K-Nearest-Neighbour)\n",
    "# SVC(Support Vector Machine)\n",
    "# Decision Tree\n",
    "# Classificatin Metrics: Accuracy, Confusion Matrix, Precision, Recall, F1-Score, ROC, AUC\n",
    "\n",
    "# Regression Types:\n",
    "# Linear Reg.\n",
    "# Ploynomial Reg.\n",
    "# Ridge, Lasso Reg.\n",
    "# SVR\n",
    "# Decision Tree Reg.\n",
    "# Regression metrics : MSE(Mean square erro), Root MSE, RMSLE, Mean Absolute Error, R-Squared, Adjusted R-Squared"
   ]
  }
 ],
 "metadata": {
  "interpreter": {
   "hash": "66b94497dab2d27425e3f2091c3c7dc2ea75cd7e2b5124c371513e42475b1791"
  },
  "kernelspec": {
   "display_name": "Python 3.10.4 64-bit",
   "language": "python",
   "name": "python3"
  },
  "language_info": {
   "codemirror_mode": {
    "name": "ipython",
    "version": 3
   },
   "file_extension": ".py",
   "mimetype": "text/x-python",
   "name": "python",
   "nbconvert_exporter": "python",
   "pygments_lexer": "ipython3",
   "version": "3.10.4"
  },
  "orig_nbformat": 4
 },
 "nbformat": 4,
 "nbformat_minor": 2
}
