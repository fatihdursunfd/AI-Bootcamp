{
 "cells": [
  {
   "cell_type": "code",
   "execution_count": null,
   "metadata": {},
   "outputs": [],
   "source": [
    "# Unsupervised Learning - Clustering\n",
    "\n",
    "\"\"\"\n",
    "\n",
    "1 - Centroid-based clustering : K-Means\n",
    "2 - Hierachical clustering : a - Agglomerative(up-down)  , b - Division(right-left)\n",
    "3 - Density Models : Ex-DBSCAN , OPTICS \n",
    "\n",
    "Kullanım alanları : Sahte haber tespiti , spam e-posta filtreleme , satiş pazarlama , network trafiğini sınflandırma  \n",
    "\n",
    "wscc ->   within-cluster sum of squared distances\n",
    "\n",
    "\"\"\""
   ]
  },
  {
   "cell_type": "code",
   "execution_count": null,
   "metadata": {},
   "outputs": [],
   "source": [
    "\"\"\"\n",
    "\n",
    "1 - Random olarak K merkez atar.\n",
    "2 - Her noktanın K merkezlerine olan uzaklıklarının hesaplar ve ilgili kümelere atamaları yapar.\n",
    "3 - Her nokta bir kümeye atandıktan sonra centroid merkezleri yeniden hesaplanır.\n",
    "4 - 2 ve 3.madde bir nokta yer değiştirmeyene kadar devam eder.\n",
    "\n",
    "\"\"\""
   ]
  }
 ],
 "metadata": {
  "language_info": {
   "name": "python"
  },
  "orig_nbformat": 4
 },
 "nbformat": 4,
 "nbformat_minor": 2
}
