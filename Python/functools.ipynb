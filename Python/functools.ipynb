{
 "cells": [
  {
   "cell_type": "code",
   "execution_count": 12,
   "metadata": {},
   "outputs": [
    {
     "name": "stdout",
     "output_type": "stream",
     "text": [
      "25\n",
      "125\n",
      "625\n"
     ]
    }
   ],
   "source": [
    "# partial(func[, *args][, **keywords])\n",
    "\n",
    "from functools import partial\n",
    "import numpy as np\n",
    "\n",
    "def pow(a,b):\n",
    "    return np.power(a,b)\n",
    "\n",
    "pow2 = partial(pow , b=2)\n",
    "pow3 = partial(pow , b=3)\n",
    "powOf5 = partial(pow , 5)\n",
    "\n",
    "print(pow2(5))\n",
    "print(pow3(5))\n",
    "print(powOf5(4))\n"
   ]
  },
  {
   "cell_type": "code",
   "execution_count": 28,
   "metadata": {},
   "outputs": [
    {
     "name": "stdout",
     "output_type": "stream",
     "text": [
      "4.83 µs ± 653 ns per loop (mean ± std. dev. of 7 runs, 100000 loops each)\n",
      "123 ns ± 2.23 ns per loop (mean ± std. dev. of 7 runs, 10000000 loops each)\n"
     ]
    }
   ],
   "source": [
    "# lru_cache\n",
    "\n",
    "from functools import lru_cache\n",
    "import time\n",
    "\n",
    "#function without lru_cache\n",
    "def uncached_factorial(n):\n",
    "    if n <= 1:\n",
    "        return 1\n",
    "    return n * uncached_factorial(n-1)\n",
    "\n",
    "%timeit uncached_factorial(20)\n",
    "\n",
    "#funtion with lru_cache \n",
    "@lru_cache(maxsize=None)\n",
    "def cached_factorial(n):\n",
    "    if n == 0:\n",
    "        return 1\n",
    "    if n == 1:\n",
    "        return 1\n",
    "    return n * uncached_factorial(n-1)\n",
    "\n",
    "%timeit cached_factorial(10)"
   ]
  },
  {
   "cell_type": "code",
   "execution_count": 31,
   "metadata": {},
   "outputs": [
    {
     "name": "stdout",
     "output_type": "stream",
     "text": [
      "User name :  Fatih\n",
      "User name :  Kadir\n",
      "User name :  Ali\n"
     ]
    }
   ],
   "source": [
    "# partialmethod\n",
    "\n",
    "from functools import partialmethod\n",
    "\n",
    "class User:\n",
    "    def __init__(self):\n",
    "        self.name = \"Fatih\"\n",
    "    def _setName(self, name):\n",
    "        self.name = name\n",
    "\n",
    "    setKadir= partialmethod(_setName, name=\"Kadir\")\n",
    "    setAli = partialmethod(_setName, name=\"Ali\")\n",
    "\n",
    "user = User()\n",
    "print(\"User name : \" , user.name)\n",
    "\n",
    "user.setKadir()\n",
    "print(\"User name : \" , user.name)\n",
    "\n",
    "user.setAli()\n",
    "print(\"User name : \" , user.name)"
   ]
  },
  {
   "cell_type": "code",
   "execution_count": 40,
   "metadata": {},
   "outputs": [
    {
     "name": "stdout",
     "output_type": "stream",
     "text": [
      "14\n",
      "5+9\n"
     ]
    }
   ],
   "source": [
    "# singledispatch\n",
    "# Function overloading with singledispatch\n",
    "\n",
    "from functools import singledispatch\n",
    "\n",
    "@singledispatch\n",
    "def sum(a:int,b:int)->int:\n",
    "    return a+b\n",
    "\n",
    "@sum.register(str)\n",
    "def _(a:str,b:str)->str:\n",
    "    return a+\"+\"+b\n",
    "\n",
    "print(sum(5,9))\n",
    "print(sum(\"5\",\"9\"))"
   ]
  },
  {
   "cell_type": "code",
   "execution_count": 42,
   "metadata": {},
   "outputs": [
    {
     "ename": "ImportError",
     "evalue": "cannot import name 'cached_property' from 'functools' (c:\\Program Files (x86)\\Microsoft Visual Studio\\Shared\\Python37_64\\lib\\functools.py)",
     "output_type": "error",
     "traceback": [
      "\u001b[1;31m---------------------------------------------------------------------------\u001b[0m",
      "\u001b[1;31mImportError\u001b[0m                               Traceback (most recent call last)",
      "\u001b[1;32m~\\AppData\\Local\\Temp\\ipykernel_18280\\836968059.py\u001b[0m in \u001b[0;36m<module>\u001b[1;34m\u001b[0m\n\u001b[1;32m----> 1\u001b[1;33m \u001b[1;32mfrom\u001b[0m \u001b[0mfunctools\u001b[0m \u001b[1;32mimport\u001b[0m \u001b[0mcached_property\u001b[0m\u001b[1;33m\u001b[0m\u001b[1;33m\u001b[0m\u001b[0m\n\u001b[0m\u001b[0;32m      2\u001b[0m \u001b[1;32mimport\u001b[0m \u001b[0mnumpy\u001b[0m \u001b[1;32mas\u001b[0m \u001b[0mnp\u001b[0m\u001b[1;33m\u001b[0m\u001b[1;33m\u001b[0m\u001b[0m\n\u001b[0;32m      3\u001b[0m \u001b[1;33m\u001b[0m\u001b[0m\n\u001b[0;32m      4\u001b[0m \u001b[1;32mclass\u001b[0m \u001b[0mStats\u001b[0m\u001b[1;33m:\u001b[0m\u001b[1;33m\u001b[0m\u001b[1;33m\u001b[0m\u001b[0m\n\u001b[0;32m      5\u001b[0m     \u001b[1;32mdef\u001b[0m \u001b[0m__init__\u001b[0m\u001b[1;33m(\u001b[0m\u001b[0mself\u001b[0m\u001b[1;33m,\u001b[0m \u001b[0mnums\u001b[0m\u001b[1;33m)\u001b[0m\u001b[1;33m:\u001b[0m\u001b[1;33m\u001b[0m\u001b[1;33m\u001b[0m\u001b[0m\n",
      "\u001b[1;31mImportError\u001b[0m: cannot import name 'cached_property' from 'functools' (c:\\Program Files (x86)\\Microsoft Visual Studio\\Shared\\Python37_64\\lib\\functools.py)"
     ]
    }
   ],
   "source": [
    "from functools import cached_property\n",
    "import numpy as np\n",
    "\n",
    "class Stats:\n",
    "    def __init__(self, nums):\n",
    "        self._data = nums\n",
    "\n",
    "    @cached_property\n",
    "    def stdev(self):\n",
    "        return np.std(self._data)\n",
    "\n",
    "    @cached_property\n",
    "    def variance(self):\n",
    "        return np.var(self._data)\n",
    "\n",
    "list = np.random.uniform(1,10,10)"
   ]
  },
  {
   "cell_type": "code",
   "execution_count": 46,
   "metadata": {},
   "outputs": [
    {
     "name": "stdout",
     "output_type": "stream",
     "text": [
      "5 > 3 : True\n",
      "1 < 6: True\n",
      "2 <= 7 : True\n",
      "9 >= 10 : False\n",
      "5 == 5 : True\n"
     ]
    }
   ],
   "source": [
    "# total_ordering\n",
    "\n",
    "from functools import total_ordering \n",
    "\n",
    "@total_ordering\n",
    "class CompareNums: \n",
    "    def __init__(self, value): \n",
    "        self.value = value \n",
    "    def __eq__(self, new_val): \n",
    "        return self.value == new_val.value \n",
    "  \n",
    "    def __gt__(self, new_val): \n",
    "        return self.value > new_val.value \n",
    "\n",
    "print('5 > 3 :', CompareNums(5)>CompareNums(3)) \n",
    "print('1 < 6:', CompareNums(1)<CompareNums(6))\n",
    "print('2 <= 7 :', CompareNums(2)<= CompareNums(7)) \n",
    "print('9 >= 10 :', CompareNums(9)>= CompareNums(10)) \n",
    "print('5 == 5 :', CompareNums(5)== CompareNums(5)) "
   ]
  },
  {
   "cell_type": "code",
   "execution_count": null,
   "metadata": {},
   "outputs": [],
   "source": []
  }
 ],
 "metadata": {
  "interpreter": {
   "hash": "0a54084e6b208ee8d1ce3989ffc20924477a5f55f5a43e22e699a6741623861e"
  },
  "kernelspec": {
   "display_name": "Python 3.7.8 64-bit",
   "language": "python",
   "name": "python3"
  },
  "language_info": {
   "codemirror_mode": {
    "name": "ipython",
    "version": 3
   },
   "file_extension": ".py",
   "mimetype": "text/x-python",
   "name": "python",
   "nbconvert_exporter": "python",
   "pygments_lexer": "ipython3",
   "version": "3.7.8"
  },
  "orig_nbformat": 4
 },
 "nbformat": 4,
 "nbformat_minor": 2
}
