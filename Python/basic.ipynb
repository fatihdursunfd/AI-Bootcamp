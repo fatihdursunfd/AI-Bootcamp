{
 "cells": [
  {
   "cell_type": "code",
   "execution_count": 3,
   "metadata": {},
   "outputs": [
    {
     "name": "stdout",
     "output_type": "stream",
     "text": [
      "wrong password\n"
     ]
    }
   ],
   "source": [
    "name = input(\"type a name\")\n",
    "password = input(\"type a password\")\n",
    "\n",
    "if (name == \"fatih\" and password == \"fd61\" ):\n",
    "    print(\"welcome\")\n",
    "\n",
    "elif (name == \"fatih\" and password != \"fd61\" ):\n",
    "    print(\"wrong password\")\n",
    "\n",
    "elif (name != \"fatih\" and password == \"fd61\" ):\n",
    "    print(\"wrong username\")\n",
    "\n",
    "else:\n",
    "    print(\"wrong username and password\")"
   ]
  },
  {
   "cell_type": "code",
   "execution_count": 51,
   "metadata": {},
   "outputs": [
    {
     "name": "stdout",
     "output_type": "stream",
     "text": [
      "852\n",
      "-0.2834416513576954\n"
     ]
    }
   ],
   "source": [
    "import random\n",
    "print(random.randrange(100,1000,8))\n",
    "print(random.uniform(-1,1,))"
   ]
  },
  {
   "cell_type": "code",
   "execution_count": 58,
   "metadata": {},
   "outputs": [
    {
     "name": "stdout",
     "output_type": "stream",
     "text": [
      "<_io.TextIOWrapper name='test.txt' mode='a' encoding='cp1252'>\n"
     ]
    }
   ],
   "source": [
    "file = open(\"test.txt\",\"a\")\n",
    "print(file)\n",
    "\n",
    "for i in range(10,20):\n",
    "    file.write(str(i))\n",
    "    file.write(\"\\n\")\n",
    "\n",
    "file.close()"
   ]
  },
  {
   "cell_type": "code",
   "execution_count": 62,
   "metadata": {},
   "outputs": [
    {
     "name": "stdout",
     "output_type": "stream",
     "text": [
      "0\n",
      "1\n",
      "2\n",
      "3\n",
      "4\n",
      "5\n",
      "6\n",
      "7\n",
      "8\n",
      "9\n",
      "28\n",
      "0\n",
      "1\n",
      "2\n"
     ]
    }
   ],
   "source": [
    "file = open(\"test.txt\",\"r\")\n",
    "\n",
    "text = file.read()\n",
    "print(text)\n",
    "\n",
    "postition = file.tell()\n",
    "print(postition)\n",
    "postition = file.seek(0,0)\n",
    "text = file.read(5)\n",
    "print(text)\n",
    "\n",
    "file.close()"
   ]
  },
  {
   "cell_type": "markdown",
   "metadata": {},
   "source": [
    "lambda arguments: expression\n",
    "Lambda functions can have any number of arguments but only one expression. The expression is evaluated and returned. Lambda functions can be used wherever function objects are required."
   ]
  },
  {
   "cell_type": "code",
   "execution_count": 70,
   "metadata": {},
   "outputs": [
    {
     "name": "stdout",
     "output_type": "stream",
     "text": [
      "12\n",
      "35\n",
      "36\n",
      "53\n"
     ]
    }
   ],
   "source": [
    "# lambda expressions\n",
    "\n",
    "# her fonksiyonda aşağıdaki argümanlar bulunur\n",
    "# def fun(positional arguments , *args , named arguments , **kwargs)\n",
    "\n",
    "add = lambda a , b : a + b\n",
    "product = lambda a , b : a * b\n",
    "res1 = (lambda *args : sum(args))\n",
    "res2 = (lambda **kwargs : sum(kwargs.values()))\n",
    "\n",
    "print(add(5,7))\n",
    "print(product(5,7))\n",
    "print(res1(5,7,12,5,7))\n",
    "print(res2(a=5,b=12,c=13,d=22,e=1))"
   ]
  },
  {
   "cell_type": "code",
   "execution_count": 1,
   "metadata": {},
   "outputs": [
    {
     "name": "stdout",
     "output_type": "stream",
     "text": [
      "90\n"
     ]
    }
   ],
   "source": [
    "def product(nums):\n",
    "    product = 1\n",
    "    for i in nums:\n",
    "        product *= i\n",
    "    return product\n",
    "\n",
    "pr = (lambda ** kwargs : product(kwargs.values()))\n",
    "print(pr(a=5,b=2,c=3,d=3,e=1))"
   ]
  },
  {
   "cell_type": "markdown",
   "metadata": {},
   "source": [
    "filter(function, iterable)\n",
    "The filter() function extracts elements from an iterable (list, tuple etc.) for which a function returns True."
   ]
  },
  {
   "cell_type": "code",
   "execution_count": 3,
   "metadata": {},
   "outputs": [
    {
     "name": "stdout",
     "output_type": "stream",
     "text": [
      "['0', '6', '1', '1', '6']\n"
     ]
    }
   ],
   "source": [
    "# filter function\n",
    "\n",
    "def isNumber(w):\n",
    "    numbers = [str(i) for i in range(10)]\n",
    "    if w in numbers :\n",
    "        return True\n",
    "    else :\n",
    "        return False\n",
    "\n",
    "word = \"0fat61ih16\"\n",
    "#word = [\"f\",\"a\",\"6\",\"1\",\"t\",\"i\",\"1\",\"h\",\"6\"]\n",
    "\n",
    "filtered = filter(isNumber,word)\n",
    "\n",
    "print(list(filtered))\n",
    "\n",
    "#for f in filtered :\n",
    "#    print(f)"
   ]
  },
  {
   "cell_type": "code",
   "execution_count": 7,
   "metadata": {},
   "outputs": [
    {
     "name": "stdout",
     "output_type": "stream",
     "text": [
      "[]\n"
     ]
    }
   ],
   "source": [
    "import numpy as np\n",
    "\n",
    "numbers = np.random.uniform(0,10,10)\n",
    "\n",
    "res = filter(lambda x : x > 5 , numbers)\n",
    "\n",
    "print(list(res))"
   ]
  },
  {
   "cell_type": "markdown",
   "metadata": {},
   "source": [
    "map(function, iterable, ...)\n",
    "The map() function applies a given function to each item of an iterable (list, tuple etc.) and returns an iterator."
   ]
  },
  {
   "cell_type": "code",
   "execution_count": 110,
   "metadata": {},
   "outputs": [
    {
     "name": "stdout",
     "output_type": "stream",
     "text": [
      "[0, 4, 16, 36, 64, 100, 144, 196, 256, 324]\n"
     ]
    }
   ],
   "source": [
    "# map function\n",
    "\n",
    "def square(number) :\n",
    "    return np.square(number)\n",
    "\n",
    "numbers = [i*2 for i in range(10)]\n",
    "res = map(square , numbers)\n",
    "\n",
    "print(list(res))"
   ]
  },
  {
   "cell_type": "code",
   "execution_count": 113,
   "metadata": {},
   "outputs": [
    {
     "name": "stdout",
     "output_type": "stream",
     "text": [
      "['fd61', 'kd16', 'ait34']\n"
     ]
    }
   ],
   "source": [
    "l1 = [\"fd\" , \"kd\" , \"ait\"]\n",
    "l2 = [61 , 16 , 34]\n",
    "\n",
    "res = map(lambda x , y : x + str(y) , l1 , l2)\n",
    "\n",
    "print(list(res))"
   ]
  },
  {
   "cell_type": "markdown",
   "metadata": {},
   "source": [
    "reduce(fun,seq)\n",
    "The reduce(fun,seq) function is used to apply a particular function passed in its argument to all of the list elements mentioned in the sequence passed along.This function is defined in “functools” module."
   ]
  },
  {
   "cell_type": "code",
   "execution_count": 4,
   "metadata": {},
   "outputs": [
    {
     "name": "stdout",
     "output_type": "stream",
     "text": [
      "10\n",
      "a=1, b=2, 1 + 2 =3\n",
      "a=3, b=3, 3 + 3 =6\n",
      "a=6, b=4, 6 + 4 =10\n",
      "10\n",
      "a=1, b=2, 1 * 2 =2\n",
      "a=2, b=3, 2 * 3 =6\n",
      "a=6, b=4, 6 * 4 =24\n",
      "24\n"
     ]
    }
   ],
   "source": [
    "# reduce function\n",
    "\n",
    "from functools import reduce\n",
    "\n",
    "def sum(a, b):\n",
    "    print(f\"a={a}, b={b}, {a} + {b} ={a+b}\")\n",
    "    return a + b\n",
    "\n",
    "def mult(a, b):\n",
    "    print(f\"a={a}, b={b}, {a} * {b} ={a*b}\")\n",
    "    return a * b\n",
    "\n",
    "numbers = [ i for i in range(1,5) ]\n",
    "\n",
    "s1 = reduce(lambda x ,y : x + y , numbers)\n",
    "print(s1)\n",
    "\n",
    "s2 = reduce(sum,numbers)\n",
    "print(s2)\n",
    "\n",
    "# factorical\n",
    "s3 = reduce(mult,numbers)\n",
    "print(s3)\n"
   ]
  },
  {
   "cell_type": "code",
   "execution_count": 6,
   "metadata": {},
   "outputs": [
    {
     "name": "stdout",
     "output_type": "stream",
     "text": [
      "50\n"
     ]
    }
   ],
   "source": [
    "from functools import reduce\n",
    "\n",
    "list1 = [i for i in range(1,10)]\n",
    "\n",
    "sum_all = reduce(lambda a , b : a + b , list(map( lambda n : n*2 , list(filter(lambda x : x%2 == 1 , list1)))))\n",
    "print(sum_all)"
   ]
  },
  {
   "cell_type": "code",
   "execution_count": null,
   "metadata": {},
   "outputs": [],
   "source": [
    "# functools moduülünü araştır"
   ]
  }
 ],
 "metadata": {
  "interpreter": {
   "hash": "0a54084e6b208ee8d1ce3989ffc20924477a5f55f5a43e22e699a6741623861e"
  },
  "kernelspec": {
   "display_name": "Python 3.7.8 64-bit",
   "language": "python",
   "name": "python3"
  },
  "language_info": {
   "codemirror_mode": {
    "name": "ipython",
    "version": 3
   },
   "file_extension": ".py",
   "mimetype": "text/x-python",
   "name": "python",
   "nbconvert_exporter": "python",
   "pygments_lexer": "ipython3",
   "version": "3.7.8"
  },
  "orig_nbformat": 4
 },
 "nbformat": 4,
 "nbformat_minor": 2
}
